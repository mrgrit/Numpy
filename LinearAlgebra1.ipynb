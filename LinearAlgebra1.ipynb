{
 "cells": [
  {
   "cell_type": "code",
   "execution_count": 1,
   "metadata": {
    "collapsed": true
   },
   "outputs": [],
   "source": [
    "# 선형대수 기초\n",
    "# 차원 이해\n",
    "# 기하차원 : 차원은 수학에서 공간 내에 있는 점 등의 위치를 나타내기 위해 필요한 축의 갯수\n",
    "# Tensor : n차원 Array, 1차원은 vector, 2차원 matrix, 3차원 cube, \n",
    "# 4차원 cube의 vector, 5차원 cube의 matrix, 6차원 cube의 cube"
   ]
  },
  {
   "cell_type": "code",
   "execution_count": 3,
   "metadata": {
    "collapsed": true
   },
   "outputs": [],
   "source": [
    "# Vector 이해\n",
    "# Scalar / vector / matrix\n",
    "# scalar : number, vector는 숫자들의 list(row or column), matrix는 숫자들의 Array(rows, columns)\n",
    "# 그리고 vector는 Matrix\n",
    "# vector : 방향과 크기로 특징지어지는 물리령을 나타내며, 벡터의 길이는 크기와 방향을 표시\n",
    "# 배열과 vector 구분 (표 참조)"
   ]
  },
  {
   "cell_type": "code",
   "execution_count": 8,
   "metadata": {
    "collapsed": false,
    "scrolled": true
   },
   "outputs": [
    {
     "name": "stdout",
     "output_type": "stream",
     "text": [
      "(10, <type 'int'>)\n",
      "([1, 2, 3], <type 'list'>)\n",
      "(array([[1, 2, 3],\n",
      "       [4, 5, 6]]), <type 'numpy.ndarray'>)\n"
     ]
    }
   ],
   "source": [
    "# scalar / vector / matrix\n",
    "import numpy as np\n",
    "s = 10\n",
    "v = [1,2,3]\n",
    "m = np.array([[1,2,3],[4,5,6]])\n",
    "print(s, type(s))\n",
    "print(v, type(v))\n",
    "print(m, type(m))"
   ]
  },
  {
   "cell_type": "code",
   "execution_count": 16,
   "metadata": {
    "collapsed": false,
    "scrolled": true
   },
   "outputs": [
    {
     "name": "stdout",
     "output_type": "stream",
     "text": [
      "8.30662386292\n",
      "8.30662386292\n",
      "0.0\n",
      "0.0\n",
      "1.0\n",
      "1.0\n"
     ]
    }
   ],
   "source": [
    "# vector 크기 (자료 참조)\n",
    "# vector 길이 즉 크기를 구함\n",
    "import math\n",
    "\n",
    "a = np.array([4,2,7])\n",
    "print(np.linalg.norm(a))\n",
    "print(math.sqrt(sum([n**2 for n in a])))\n",
    "\n",
    "b = np.array([0,0,0])\n",
    "print(np.linalg.norm(b))\n",
    "print(math.sqrt(sum([n**2 for n in b])))\n",
    "\n",
    "e = np.array([1,0,0])\n",
    "print(np.linalg.norm(e))\n",
    "print(math.sqrt(sum([n**2 for n in e])))"
   ]
  },
  {
   "cell_type": "code",
   "execution_count": 19,
   "metadata": {
    "collapsed": false,
    "scrolled": true
   },
   "outputs": [
    {
     "name": "stdout",
     "output_type": "stream",
     "text": [
      "2.2360679775\n",
      "2.2360679775\n"
     ]
    }
   ],
   "source": [
    "# Vector 크기 계산\n",
    "# Vector 크기(Magnitude)는 원소들의 제곱을 더하고 이에 대한 제곱근의 값\n",
    "# 벡터 크기는 x축의 변위와 y축의 변위를 이용하여 피타고라스 정리\n",
    "\n",
    "x = np.array([1,2])\n",
    "mag = lambda x: math.sqrt(sum(i**2 for i in x))\n",
    "print(mag(x))\n",
    "\n",
    "print(np.linalg.norm(x))"
   ]
  },
  {
   "cell_type": "code",
   "execution_count": 22,
   "metadata": {
    "collapsed": false
   },
   "outputs": [
    {
     "name": "stdout",
     "output_type": "stream",
     "text": [
      "3.74165738677\n",
      "[0.8017837257372732, 0.2672612419124244, 0.5345224838248488]\n"
     ]
    }
   ],
   "source": [
    "# 단위벡터(자료참조)\n",
    "# 단위벡터 정규화 : 해당 벡터를 0~1의 값으로 정규화\n",
    "\n",
    "def add(u,v):\n",
    "    return([u[i]+v[i] for i in range(len(u))])\n",
    "\n",
    "def magnitude(v):\n",
    "    return(math.sqrt(sum(v[i]*v[i] for i in range(len(v)))))\n",
    "\n",
    "def normalize(v):\n",
    "    vmag = magnitude(v)\n",
    "    return [v[i]/vmag for i in range(len(v))]\n",
    "\n",
    "l = [3,1,1] # 비율\n",
    "v = [0,0,1]\n",
    "h = normalize(add(l,v))\n",
    "print(magnitude(add(l,v)))\n",
    "print(h)\n",
    "           \n",
    "    \n"
   ]
  }
 ],
 "metadata": {
  "kernelspec": {
   "display_name": "Python 3",
   "language": "python",
   "name": "python3"
  },
  "language_info": {
   "codemirror_mode": {
    "name": "ipython",
    "version": 3
   },
   "file_extension": ".py",
   "mimetype": "text/x-python",
   "name": "python",
   "nbconvert_exporter": "python",
   "pygments_lexer": "ipython3",
   "version": "3.6.0"
  }
 },
 "nbformat": 4,
 "nbformat_minor": 2
}
