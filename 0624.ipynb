{
 "cells": [
  {
   "cell_type": "code",
   "execution_count": 5,
   "metadata": {
    "collapsed": false,
    "scrolled": true
   },
   "outputs": [
    {
     "name": "stdout",
     "output_type": "stream",
     "text": [
      "{'y': 5, 'x': 5}\n",
      "10\n",
      "100\n",
      "{'__name__': '__main__', '__doc__': 'Automatically created module for IPython interactive environment', '__package__': None, '__loader__': None, '__spec__': None, '__builtin__': <module 'builtins' (built-in)>, '__builtins__': <module 'builtins' (built-in)>, '_ih': ['', 'def add(x,y):\\n    return x+y\\nprint(add(5,5))\\nadd = 100\\nprint(add)', 'def add(x,y):\\n    return x+y\\nprint(add(5,5))\\nadd = 100\\nprint(add)\\ndict.add', 'def add(x,y):\\n    return x+y\\nprint(add(5,5))\\nadd = 100\\nprint(add)\\nprint(globals())', 'def add(x,y):\\n    print(locals())\\n    return x+y\\nprint(add(5,5))\\nadd = 100\\nprint(add)\\nprint(globals())', 'def add(x,y):\\n    print(locals())\\n    return x+y\\nprint(add(5,5))\\nadd = 100\\nprint(add)\\nprint(globals())'], '_oh': {}, '_dh': ['D:\\\\Project\\\\04.MachineLearning\\\\numpy'], '_sh': <module 'IPython.core.shadowns' from 'C:\\\\ProgramData\\\\Anaconda3\\\\lib\\\\site-packages\\\\IPython\\\\core\\\\shadowns.py'>, 'In': ['', 'def add(x,y):\\n    return x+y\\nprint(add(5,5))\\nadd = 100\\nprint(add)', 'def add(x,y):\\n    return x+y\\nprint(add(5,5))\\nadd = 100\\nprint(add)\\ndict.add', 'def add(x,y):\\n    return x+y\\nprint(add(5,5))\\nadd = 100\\nprint(add)\\nprint(globals())', 'def add(x,y):\\n    print(locals())\\n    return x+y\\nprint(add(5,5))\\nadd = 100\\nprint(add)\\nprint(globals())', 'def add(x,y):\\n    print(locals())\\n    return x+y\\nprint(add(5,5))\\nadd = 100\\nprint(add)\\nprint(globals())'], 'Out': {}, 'get_ipython': <bound method InteractiveShell.get_ipython of <ipykernel.zmqshell.ZMQInteractiveShell object at 0x0000019E4EC217B8>>, 'exit': <IPython.core.autocall.ZMQExitAutocall object at 0x0000019E4ED54978>, 'quit': <IPython.core.autocall.ZMQExitAutocall object at 0x0000019E4ED54978>, '_': '', '__': '', '___': '', '_i': 'def add(x,y):\\n    print(locals())\\n    return x+y\\nprint(add(5,5))\\nadd = 100\\nprint(add)\\nprint(globals())', '_ii': 'def add(x,y):\\n    return x+y\\nprint(add(5,5))\\nadd = 100\\nprint(add)\\nprint(globals())', '_iii': 'def add(x,y):\\n    return x+y\\nprint(add(5,5))\\nadd = 100\\nprint(add)\\ndict.add', '_i1': 'def add(x,y):\\n    return x+y\\nprint(add(5,5))\\nadd = 100\\nprint(add)', 'add': 100, '_i2': 'def add(x,y):\\n    return x+y\\nprint(add(5,5))\\nadd = 100\\nprint(add)\\ndict.add', '_i3': 'def add(x,y):\\n    return x+y\\nprint(add(5,5))\\nadd = 100\\nprint(add)\\nprint(globals())', '_i4': 'def add(x,y):\\n    print(locals())\\n    return x+y\\nprint(add(5,5))\\nadd = 100\\nprint(add)\\nprint(globals())', '_i5': 'def add(x,y):\\n    print(locals())\\n    return x+y\\nprint(add(5,5))\\nadd = 100\\nprint(add)\\nprint(globals())'}\n"
     ]
    }
   ],
   "source": [
    "def add(x,y):\n",
    "    print(locals())\n",
    "    return x+y\n",
    "print(add(5,5))\n",
    "add = 100\n",
    "print(add)\n",
    "print(globals())"
   ]
  },
  {
   "cell_type": "code",
   "execution_count": 15,
   "metadata": {
    "collapsed": false
   },
   "outputs": [
    {
     "name": "stdout",
     "output_type": "stream",
     "text": [
      "10\n",
      "{'x': 5, 'y': 5}\n",
      "['__call__', '__class__', '__delattr__', '__dict__', '__dir__', '__doc__', '__eq__', '__format__', '__ge__', '__getattribute__', '__gt__', '__hash__', '__init__', '__init_subclass__', '__le__', '__lt__', '__module__', '__ne__', '__new__', '__reduce__', '__reduce_ex__', '__repr__', '__setattr__', '__sizeof__', '__str__', '__subclasshook__', '__weakref__']\n"
     ]
    }
   ],
   "source": [
    "class Add:\n",
    "    def __init__(self,x,y):\n",
    "        self.x = x\n",
    "        self.y = y\n",
    "    def __call__(self): # __call__ 이 있으면 callable => 없으면 만들면 됨.\n",
    "        return self.x+self.y\n",
    "\n",
    "a = Add(5,5)\n",
    "print(a()) # instance 실행 -> instance는 not callable 이나 __call__ method를 만들어서 callable 하게 만듬\n",
    "\n",
    "print(a.__dict__)\n",
    "print(dir(Add))\n",
    "        "
   ]
  },
  {
   "cell_type": "code",
   "execution_count": 18,
   "metadata": {
    "collapsed": false
   },
   "outputs": [
    {
     "name": "stdout",
     "output_type": "stream",
     "text": [
      "['__class__', '__delattr__', '__dir__', '__doc__', '__eq__', '__format__', '__ge__', '__getattribute__', '__gt__', '__hash__', '__init__', '__init_subclass__', '__le__', '__lt__', '__ne__', '__new__', '__reduce__', '__reduce_ex__', '__repr__', '__setattr__', '__sizeof__', '__str__', '__subclasshook__']\n"
     ]
    }
   ],
   "source": [
    "print(dir(object))"
   ]
  },
  {
   "cell_type": "code",
   "execution_count": 20,
   "metadata": {
    "collapsed": false,
    "scrolled": true
   },
   "outputs": [
    {
     "name": "stdout",
     "output_type": "stream",
     "text": [
      "['__abstractmethods__', '__base__', '__bases__', '__basicsize__', '__call__', '__class__', '__delattr__', '__dict__', '__dictoffset__', '__dir__', '__doc__', '__eq__', '__flags__', '__format__', '__ge__', '__getattribute__', '__gt__', '__hash__', '__init__', '__init_subclass__', '__instancecheck__', '__itemsize__', '__le__', '__lt__', '__module__', '__mro__', '__name__', '__ne__', '__new__', '__prepare__', '__qualname__', '__reduce__', '__reduce_ex__', '__repr__', '__setattr__', '__sizeof__', '__str__', '__subclasscheck__', '__subclasses__', '__subclasshook__', '__text_signature__', '__weakrefoffset__', 'mro']\n"
     ]
    }
   ],
   "source": [
    "print(dir(type))"
   ]
  },
  {
   "cell_type": "code",
   "execution_count": 25,
   "metadata": {
    "collapsed": false,
    "scrolled": true
   },
   "outputs": [
    {
     "name": "stdout",
     "output_type": "stream",
     "text": [
      "['__class__', '__delattr__', '__dict__', '__dir__', '__doc__', '__eq__', '__format__', '__ge__', '__getattribute__', '__gt__', '__hash__', '__init__', '__init_subclass__', '__le__', '__lt__', '__module__', '__ne__', '__new__', '__reduce__', '__reduce_ex__', '__repr__', '__setattr__', '__sizeof__', '__str__', '__subclasshook__', '__weakref__']\n",
      "<class 'str'>\n",
      "<class 'type'>\n"
     ]
    }
   ],
   "source": [
    "class Add:\n",
    "    def __init__(self,x,y):\n",
    "        self.x = x\n",
    "        self.y = y\n",
    "\n",
    "a = Add(1,2)\n",
    "print(dir(Add))\n",
    "print(type(Add.__name__))\n",
    "print(type(Add))"
   ]
  },
  {
   "cell_type": "code",
   "execution_count": 31,
   "metadata": {
    "collapsed": false
   },
   "outputs": [
    {
     "name": "stdout",
     "output_type": "stream",
     "text": [
      "<class 'numpy.ufunc'>\n",
      "(<class 'object'>,)\n",
      "<class 'builtin_function_or_method'>\n",
      "['__call__', '__class__', '__delattr__', '__dir__', '__doc__', '__eq__', '__format__', '__ge__', '__getattribute__', '__gt__', '__hash__', '__init__', '__init_subclass__', '__le__', '__lt__', '__name__', '__ne__', '__new__', '__reduce__', '__reduce_ex__', '__repr__', '__setattr__', '__sizeof__', '__str__', '__subclasshook__', 'accumulate', 'at', 'identity', 'nargs', 'nin', 'nout', 'ntypes', 'outer', 'reduce', 'reduceat', 'signature', 'types']\n"
     ]
    }
   ],
   "source": [
    "import numpy as np\n",
    "print(type(np.add))\n",
    "print(np.ufunc.__bases__)\n",
    "print(type(np.arange)) # builtin_function_or_method => c module\n",
    "print(dir(np.add))"
   ]
  },
  {
   "cell_type": "code",
   "execution_count": 34,
   "metadata": {
    "collapsed": false
   },
   "outputs": [
    {
     "name": "stdout",
     "output_type": "stream",
     "text": [
      "['__annotations__', '__call__', '__class__', '__closure__', '__code__', '__defaults__', '__delattr__', '__dict__', '__dir__', '__doc__', '__eq__', '__format__', '__ge__', '__get__', '__getattribute__', '__globals__', '__gt__', '__hash__', '__init__', '__init_subclass__', '__kwdefaults__', '__le__', '__lt__', '__module__', '__name__', '__ne__', '__new__', '__qualname__', '__reduce__', '__reduce_ex__', '__repr__', '__setattr__', '__sizeof__', '__str__', '__subclasshook__']\n",
      "['__annotations__', '__call__', '__class__', '__closure__', '__code__', '__defaults__', '__delattr__', '__dict__', '__dir__', '__doc__', '__eq__', '__format__', '__ge__', '__get__', '__getattribute__', '__globals__', '__gt__', '__hash__', '__init__', '__init_subclass__', '__kwdefaults__', '__le__', '__lt__', '__module__', '__name__', '__ne__', '__new__', '__qualname__', '__reduce__', '__reduce_ex__', '__repr__', '__setattr__', '__sizeof__', '__str__', '__subclasshook__', 'add']\n",
      "20\n"
     ]
    }
   ],
   "source": [
    "def add(x,y):\n",
    "    return x+y\n",
    "\n",
    "print(dir(add))\n",
    "\n",
    "add.add = add\n",
    "print(dir(add))\n",
    "\n",
    "print(add.add(10,10)) # 함수의 상태를 객체에 보관\n",
    "\n",
    "# lambda => 함수를 변수명으로 \n",
    "# add = lambda x,y : x+y\n"
   ]
  }
 ],
 "metadata": {
  "kernelspec": {
   "display_name": "Python 3",
   "language": "python",
   "name": "python3"
  },
  "language_info": {
   "codemirror_mode": {
    "name": "ipython",
    "version": 3
   },
   "file_extension": ".py",
   "mimetype": "text/x-python",
   "name": "python",
   "nbconvert_exporter": "python",
   "pygments_lexer": "ipython3",
   "version": "3.6.0"
  }
 },
 "nbformat": 4,
 "nbformat_minor": 2
}
