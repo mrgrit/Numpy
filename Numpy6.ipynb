{
 "cells": [
  {
   "cell_type": "code",
   "execution_count": 2,
   "metadata": {
    "collapsed": false,
    "scrolled": true
   },
   "outputs": [
    {
     "name": "stdout",
     "output_type": "stream",
     "text": [
      "[[0 1 2]\n",
      " [3 4 5]]\n",
      "[ 1.5  2.5  3.5]\n",
      "[ 1.  4.]\n"
     ]
    }
   ],
   "source": [
    "# Numpy axis 이해하기\n",
    "# 배열 축 이해 : 2차원\n",
    "# 0 은 열, 1은 행\n",
    "import numpy as np\n",
    "\n",
    "f = np.arange(0,6).reshape(2,3)\n",
    "print(f)\n",
    "\n",
    "# column\n",
    "print(np.mean(f,axis=0))\n",
    "# row\n",
    "print(np.mean(f,axis=1))"
   ]
  },
  {
   "cell_type": "code",
   "execution_count": 7,
   "metadata": {
    "collapsed": false,
    "scrolled": false
   },
   "outputs": [
    {
     "name": "stdout",
     "output_type": "stream",
     "text": [
      "[[ 0  1  2  3]\n",
      " [ 4  5  6  7]\n",
      " [ 8  9 10 11]]\n",
      "[[ 0  4  8]\n",
      " [ 1  5  9]\n",
      " [ 2  6 10]\n",
      " [ 3  7 11]]\n"
     ]
    }
   ],
   "source": [
    "# 배열 전치\n",
    "# 데이터를 복사하지 않고 데이터 모양이 바뀐 뷰를 반환하는 기능\n",
    "f = np.arange(0,12).reshape(3,4)\n",
    "print(f)\n",
    "print(f.T)"
   ]
  },
  {
   "cell_type": "code",
   "execution_count": 12,
   "metadata": {
    "collapsed": false
   },
   "outputs": [
    {
     "name": "stdout",
     "output_type": "stream",
     "text": [
      "[[[0 1]\n",
      "  [2 3]]\n",
      "\n",
      " [[4 5]\n",
      "  [6 7]]]\n",
      "[[ 2.  3.]\n",
      " [ 4.  5.]]\n",
      "[[ 1.  2.]\n",
      " [ 5.  6.]]\n",
      "[[ 0.5  2.5]\n",
      " [ 4.5  6.5]]\n"
     ]
    }
   ],
   "source": [
    "# axis : 3차원\n",
    "# 0은 두개의 행렬에서 각 열원소별로, 1은 행끼리 처리, 2는 내부 원소끼리 처리\n",
    "# vector는 vector단위만 삭제 가능 , 원소 하나 삭제는 불가\n",
    "f = np.arange(0,8).reshape(2,2,2)\n",
    "print(f)\n",
    "\n",
    "# [[0 1] + [4 5], [2 3] + [6 7]]\n",
    "print(np.mean(f,axis=0))# ??\n",
    "# [[0 1] + [2 3], [4 5] + [6 7]] \n",
    "print(np.mean(f,axis=1))# ??\n",
    "# [[0+1 2+3],[4+5 6+7]]\n",
    "print(np.mean(f,axis=2))# ??"
   ]
  },
  {
   "cell_type": "code",
   "execution_count": 19,
   "metadata": {
    "collapsed": false,
    "scrolled": true
   },
   "outputs": [
    {
     "name": "stdout",
     "output_type": "stream",
     "text": [
      "[[ 0  1  2  3]\n",
      " [ 4  5  6  7]\n",
      " [ 8  9 10 11]]\n",
      "[[ 0  1  2  3]\n",
      " [ 4  5  6  7]\n",
      " [ 8  9 10 11]]\n",
      "[[ 0  4  8]\n",
      " [ 1  5  9]\n",
      " [ 2  6 10]\n",
      " [ 3  7 11]]\n",
      "[[[ 0  1  2]\n",
      "  [ 3  4  5]]\n",
      "\n",
      " [[ 6  7  8]\n",
      "  [ 9 10 11]]]\n",
      "[[[ 0  1  2]\n",
      "  [ 3  4  5]]\n",
      "\n",
      " [[ 6  7  8]\n",
      "  [ 9 10 11]]]\n",
      "[[[ 0  6]\n",
      "  [ 3  9]]\n",
      "\n",
      " [[ 1  7]\n",
      "  [ 4 10]]\n",
      "\n",
      " [[ 2  8]\n",
      "  [ 5 11]]]\n"
     ]
    }
   ],
   "source": [
    "# 축변경 : transpose\n",
    "# tuple로 축 번호를 받아 치환하지만 axis는 0,1이 default이므로\n",
    "# 배열 전치를 하려면 1,0으로 축을 변경해야 함\n",
    "\n",
    "f = np.arange(0,12).reshape(3,4)\n",
    "print(f)\n",
    "print(f.transpose((0,1)))\n",
    "print(f.transpose((1,0)))\n",
    "\n",
    "# 3차원 일때\n",
    "f = np.arange(0,12).reshape(2,2,3)\n",
    "print(f)\n",
    "print(f.transpose((0,1,2)))\n",
    "print(f.transpose((2,1,0))) # ?"
   ]
  },
  {
   "cell_type": "code",
   "execution_count": 36,
   "metadata": {
    "collapsed": false
   },
   "outputs": [
    {
     "name": "stdout",
     "output_type": "stream",
     "text": [
      "((1, 2), (1, 2))\n",
      "[[4]]\n",
      "((1, 3), (1, 3))\n",
      "[[13]]\n",
      "[[4]]\n",
      "[[4]]\n"
     ]
    }
   ],
   "source": [
    "# numpy 함수\n",
    "# inner/outer 함수 이해하기\n",
    "# A = [[1,0]], B = [[4,1]]\n",
    "# numpy.inner(A,B)\n",
    "# array([[1*4+0*1]])\n",
    "a = np.array([[1,0]])\n",
    "b = np.array([[4,1]])\n",
    "print(a.shape, b.shape)\n",
    "print(np.inner(a,b))\n",
    "\n",
    "a1 = np.array([[1,0,3]])\n",
    "b1 = np.array([[4,1,3]])\n",
    "print(a1.shape, b1.shape)\n",
    "print(np.inner(a1,b1))\n",
    "\n",
    "va = np.array([[1,0]])\n",
    "vb = np.array([[4,1]])\n",
    "vc = np.array([[4],[1]])\n",
    "\n",
    "print(np.dot(va,vc))\n",
    "print(np.inner(va,vb))"
   ]
  },
  {
   "cell_type": "code",
   "execution_count": 39,
   "metadata": {
    "collapsed": false
   },
   "outputs": [
    {
     "name": "stdout",
     "output_type": "stream",
     "text": [
      "((1, 2), (1, 2))\n",
      "[[4 1]\n",
      " [0 0]]\n",
      "[[4 1]\n",
      " [0 0]]\n"
     ]
    }
   ],
   "source": [
    "# outer\n",
    "# A = [[a1,b1]] , B = [[a2,b2]]\n",
    "# numpy.outer(A,B)\n",
    "# array([[a1*a2 , a1*b2][b1*a2, b1*b2]])\n",
    "# 벡터의 내부 곱한것을 더해서 값을 표현\n",
    "# 첫번째 벡터의 전치와 두번째 벡터와의 Dot연산과 같은 결과\n",
    "\n",
    "a = np.array([[1,0]])\n",
    "b = np.array([[4,1]])\n",
    "print(a.shape, b.shape)\n",
    "print(np.outer(a,b))\n",
    "print(np.dot(a.T,b))\n"
   ]
  },
  {
   "cell_type": "code",
   "execution_count": 5,
   "metadata": {
    "collapsed": false,
    "scrolled": true
   },
   "outputs": [
    {
     "name": "stdout",
     "output_type": "stream",
     "text": [
      "[  1.   2.   3.   4.   5.   6.   7.   8.   9.  10.]\n",
      "[  1.   2.   3.   4.   5.   6.   7.   8.   9.  10.]\n",
      "[ -1.  -2.  -3.  -4.  -5.  -6.  -7.  -8.  -9. -10.]\n",
      "[  1.   2.   3.   4.   5.   6.   7.   8.   9.  10.]\n",
      "<class 'numpy.ufunc'>\n",
      "<class 'builtin_function_or_method'>\n",
      "[-1. -1. -1. -1. -1. -1. -1. -1. -1. -1.]\n",
      "[ -1.  -2.  -3.  -4.  -5.  -6.  -7.  -8.  -9. -10.]\n",
      "(<class 'object'>,)\n"
     ]
    }
   ],
   "source": [
    "# 숫자처리 함수\n",
    "# 절대값/부호 처리\n",
    "# abs, fabs : 각원소의 절대값을 구함, 복소수가 아닌 경우 fabs로 빠른 연산 처리\n",
    "# sign : 부호에 대한 처리, 1은 양수, -1은 음수\n",
    "\n",
    "a = np.linspace(1,10,10)\n",
    "print(a)\n",
    "print(np.fabs(-a)) # ?\n",
    "print(-a)\n",
    "print(np.fabs(-a))\n",
    "print(type(np.fabs)) # universal function은 for문이 내장되어 있음 => vector 연산, broadcasting \n",
    "print(type(np.where))\n",
    "s= np.sign(-a)\n",
    "print(s)# 부호 보여주기\n",
    "print(a*s)\n",
    "\n",
    "print(np.ufunc.__bases__)"
   ]
  },
  {
   "cell_type": "code",
   "execution_count": 53,
   "metadata": {
    "collapsed": false,
    "scrolled": true
   },
   "outputs": [
    {
     "name": "stdout",
     "output_type": "stream",
     "text": [
      "[  2.71828183e+00   7.38905610e+00   2.00855369e+01   5.45981500e+01\n",
      "   1.48413159e+02   4.03428793e+02   1.09663316e+03   2.98095799e+03\n",
      "   8.10308393e+03   2.20264658e+04]\n",
      "[ 0.          0.69314718  1.09861229  1.38629436  1.60943791  1.79175947\n",
      "  1.94591015  2.07944154  2.19722458  2.30258509]\n",
      "[ 0.          0.30103     0.47712125  0.60205999  0.69897     0.77815125\n",
      "  0.84509804  0.90308999  0.95424251  1.        ]\n",
      "[ 0.          1.          1.5849625   2.          2.32192809  2.5849625\n",
      "  2.80735492  3.          3.169925    3.32192809]\n",
      "[ 0.69314718  1.09861229  1.38629436  1.60943791  1.79175947  1.94591015\n",
      "  2.07944154  2.19722458  2.30258509  2.39789527]\n",
      "[ 0.69314718  1.09861229  1.38629436  1.60943791  1.79175947  1.94591015\n",
      "  2.07944154  2.19722458  2.30258509  2.39789527]\n"
     ]
    }
   ],
   "source": [
    "# 지수와 로그 = > 역함수 관계\n",
    "# exp는 지수 계산\n",
    "# log, log10, log2, log1p는 자연로그 로그10, 로그2, 로그(1+x)\n",
    "\n",
    "a = np.linspace(1,10,10)\n",
    "print(np.exp(a))\n",
    "print(np.log(a))\n",
    "print(np.log10(a))\n",
    "print(np.log2(a))\n",
    "print(np.log1p(a))\n",
    "print(np.log(1+a))"
   ]
  },
  {
   "cell_type": "code",
   "execution_count": 59,
   "metadata": {
    "collapsed": false,
    "scrolled": true
   },
   "outputs": [
    {
     "name": "stdout",
     "output_type": "stream",
     "text": [
      "[   1.    4.    9.   16.   25.   36.   49.   64.   81.  100.]\n",
      "[ 1.          1.41421356  1.73205081  2.          2.23606798  2.44948974\n",
      "  2.64575131  2.82842712  3.          3.16227766]\n",
      "[    1.     8.    27.    64.   125.   216.   343.   512.   729.  1000.]\n"
     ]
    }
   ],
   "source": [
    "# 거듭제곱 / 제곱근\n",
    "# square는 거듭제곱, sqrt는 제곱근, power는 두배열의 거듭제곱\n",
    "\n",
    "a = np.linspace(1,10,10)\n",
    "print(np.square(a))\n",
    "print(np.sqrt(a))\n",
    "#print(np.log(a))\n",
    "print(np.power(a,3))"
   ]
  },
  {
   "cell_type": "code",
   "execution_count": 64,
   "metadata": {
    "collapsed": false,
    "scrolled": true
   },
   "outputs": [
    {
     "name": "stdout",
     "output_type": "stream",
     "text": [
      "[ 1.          1.44444444  1.88888889  2.33333333  2.77777778  3.22222222\n",
      "  3.66666667  4.11111111  4.55555556  5.        ]\n",
      "[ 1.  2.  2.  3.  3.  4.  4.  5.  5.  5.]\n",
      "[ 1.  1.  1.  2.  2.  3.  3.  4.  4.  5.]\n",
      "[ 1.  1.  2.  2.  3.  3.  4.  4.  5.  5.]\n"
     ]
    }
   ],
   "source": [
    "# 절사 / 절상\n",
    "# ceil : 각 원소의 값보다 같거나 큰 정수 중 가장 큰 정수 반환\n",
    "# floor : 각 원소의 값보다 작거나 같은 정수 중 가장 작은 수 반환\n",
    "# rint : 각 원소의 소수자리를 반올림하고 dtype유지\n",
    "b = np.linspace(1,5,10)\n",
    "print(b)\n",
    "print(np.ceil(b))\n",
    "print(np.floor(b))\n",
    "print(np.rint(b))"
   ]
  },
  {
   "cell_type": "code",
   "execution_count": 72,
   "metadata": {
    "collapsed": false,
    "scrolled": true
   },
   "outputs": [
    {
     "name": "stdout",
     "output_type": "stream",
     "text": [
      "[  1.   2.   3.   4.   5.   6.   7.   8.   9.  10.]\n",
      "[  2.   4.   6.   8.  10.  12.  14.  16.  18.  20.]\n",
      "[ 0.  0.  0.  0.  0.  0.  0.  0.  0.  0.]\n",
      "[  1.   2.   3.   4.   5.   6.   7.   8.   9.  10.]\n",
      "[   1.    4.    9.   16.   25.   36.   49.   64.   81.  100.]\n",
      "[ 1.  1.  1.  1.  1.  1.  1.  1.  1.  1.]\n",
      "[ 1.  1.  1.  1.  1.  1.  1.  1.  1.  1.]\n"
     ]
    }
   ],
   "source": [
    "# 사칙연산 \n",
    "# apply(함수, value, value) =>  함수에 type이 다른 value를 넣어 계산 시 type을 맞춰 줌 => 함수 대신 연산자 넣으면 Error => 함수넣음\n",
    "a = np.linspace(1,10,10)\n",
    "print(a)\n",
    "print(np.add(a,a))\n",
    "print(np.subtract(a,a)) \n",
    "print(a)\n",
    "print(np.multiply(a,a))\n",
    "print(np.divide(a,a))\n",
    "print(np.floor_divide(a,a)) # //\n"
   ]
  },
  {
   "cell_type": "code",
   "execution_count": 80,
   "metadata": {
    "collapsed": false,
    "scrolled": true
   },
   "outputs": [
    {
     "name": "stdout",
     "output_type": "stream",
     "text": [
      "[  1.   2.   3.   4.   5.   6.   7.   8.   9.  10.]\n",
      "(array([ 0.,  0.,  0.,  0.,  0.,  0.,  0.,  0.,  0.,  0.]), array([  1.,   2.,   3.,   4.,   5.,   6.,   7.,   8.,   9.,  10.]))\n",
      "[ 0.  1.  1.  1.  1.  1.  1.  1.  1.  1.]\n",
      "[False False False  True  True  True  True  True  True  True]\n"
     ]
    }
   ],
   "source": [
    "# mode 연산\n",
    "# modf : 단항연산으로 자신의 나머지와 몫 구하기\n",
    "# mod : 이항연산으로 나머지만 구함\n",
    "a = np.linspace(1,10,10)\n",
    "print(a)\n",
    "print(np.modf(a))# ?\n",
    "print(np.mod(1+a,a))\n"
   ]
  },
  {
   "cell_type": "code",
   "execution_count": 90,
   "metadata": {
    "collapsed": false,
    "scrolled": false
   },
   "outputs": [
    {
     "name": "stdout",
     "output_type": "stream",
     "text": [
      "[ True  True  True  True  True  True  True  True  True  True]\n",
      "[False False False False False False False False False False]\n",
      "[False False False  True  True  True  True  True  True  True]\n",
      "True\n",
      "False\n",
      "[False False  True  True  True  True  True  True  True  True]\n",
      "[ True  True False False False False False False False False]\n",
      "[ True  True  True False False False False False False False]\n"
     ]
    }
   ],
   "source": [
    "# 관계연산\n",
    "# 두 배열간의 관계를 표시하거나 부울 표시된 결과에 대해 any/all로 전체 결과 확인\n",
    "\n",
    "a = np.linspace(1,10,10)\n",
    "print(np.equal(a,a))\n",
    "print(np.not_equal(a,a))\n",
    "# a > 3\n",
    "b = np.greater(a,3)\n",
    "print(b)\n",
    "print(np.any(b)) # ?\n",
    "print(np.all(b)) # ?\n",
    "# a >= 3\n",
    "c = np.greater_equal(a,3)\n",
    "print(c)\n",
    "# a < 3\n",
    "d = np.less(a,3)\n",
    "print(d)\n",
    "#a <= 3\n",
    "e = np.less_equal(a,3)\n",
    "print(e)"
   ]
  },
  {
   "cell_type": "code",
   "execution_count": 10,
   "metadata": {
    "collapsed": false,
    "scrolled": false
   },
   "outputs": [
    {
     "name": "stdout",
     "output_type": "stream",
     "text": [
      "[  1.   2.   3.   4.   5.   6.   7.   8.   9.  10.]\n",
      "[0 0 0 3 3 3 3 3 3 3]\n",
      "[False False False  True  True  True  True  True  True  True]\n",
      "[  0.   0.   0.   4.   5.   6.   7.   8.   9.  10.]\n",
      "(array([3, 4, 5, 6, 7, 8, 9], dtype=int64),)\n",
      "10\n"
     ]
    }
   ],
   "source": [
    "# where 연산\n",
    "# 조건을 표현한 배열을 기준으로 True일 경우 첫번째 배열의 요소,\n",
    "# False일 경우는 두번째 배열의 요소로 처리\n",
    "\n",
    "a = np.linspace(1,10,10)\n",
    "print(a)\n",
    "result = np.where(a>3,3,0)\n",
    "print(result)\n",
    "\n",
    "b = a>3\n",
    "print(b)\n",
    "result = np.where(b,a,0)\n",
    "print(result)\n",
    "result = np.where(b)\n",
    "print(result)\n",
    "\n",
    "# list comprehenstion\n",
    "x = 10\n",
    "x if x<0 else 0\n",
    "print(x)"
   ]
  },
  {
   "cell_type": "code",
   "execution_count": 103,
   "metadata": {
    "collapsed": false
   },
   "outputs": [
    {
     "name": "stdout",
     "output_type": "stream",
     "text": [
      "[ 5.]\n",
      "5.0\n"
     ]
    },
    {
     "data": {
      "text/plain": [
       "array([[ 5.,  5.,  5.],\n",
       "       [ 5.,  5.,  5.],\n",
       "       [ 5.,  5.,  5.]])"
      ]
     },
     "execution_count": 103,
     "metadata": {},
     "output_type": "execute_result"
    }
   ],
   "source": [
    "# HYPOT함수 => 피타고라스 정리\n",
    "# sqrt(a제곱 + b제곱)\n",
    "print(np.hypot(np.array([3]),np.array([4]))) \n",
    "print(np.hypot(3,4))\n",
    "\n",
    "np.sqrt(3**2 + 4**2)\n",
    "\n",
    "np.hypot(3*np.ones((3,3)),[4])"
   ]
  },
  {
   "cell_type": "code",
   "execution_count": 106,
   "metadata": {
    "collapsed": false,
    "scrolled": true
   },
   "outputs": [
    {
     "name": "stdout",
     "output_type": "stream",
     "text": [
      "[1 2 3 4 5]\n",
      "[ True  True False]\n"
     ]
    }
   ],
   "source": [
    "# 집합함수 => 상품 vector화 => 구매한 상품 구하기 \n",
    "# unique / in1d\n",
    "# 집합처럼 만드는 unique함수와 포함관계를 표시하는 in1d함수\n",
    "y = np.array([1,2,3,4,5,1,2,3])\n",
    "\n",
    "# 집합생성\n",
    "A = np.unique(y)\n",
    "print(A)\n",
    "# 집합 내의 포함된 원소인지 확인\n",
    "print(np.in1d([2,3,7],A))"
   ]
  },
  {
   "cell_type": "code",
   "execution_count": 117,
   "metadata": {
    "collapsed": false,
    "scrolled": false
   },
   "outputs": [
    {
     "name": "stdout",
     "output_type": "stream",
     "text": [
      "[1 2 3 4 5]\n",
      "[1 2 3]\n",
      "[4 5]\n",
      "[]\n",
      "[4 5]\n",
      "[1 2 3 4 5]\n",
      "[1 2 3]\n",
      "[1 2 3 4 5]\n",
      "[1 2 3]\n",
      "[4 5]\n",
      "[4 5]\n"
     ]
    }
   ],
   "source": [
    "# 집합연산하기 -> 일단 1차원적으로 변환해야 함\n",
    "y = np.array([1,2,3,4,5,1,2,3])\n",
    "z = np.array([1,2,3,1,2,3])\n",
    "\n",
    "# 집합 생성\n",
    "A = np.unique(y)\n",
    "B = np.unique(z)\n",
    "\n",
    "# 합집합, 교집합, 차집합, 대칭차집합\n",
    "print(np.union1d(A,B))\n",
    "print(np.intersect1d(A,B))\n",
    "print(np.setdiff1d(A,B))\n",
    "print(np.setdiff1d(B,A))\n",
    "print(np.setxor1d(A,B))\n",
    "\n",
    "y = np.array([[1,2,3,4],[5,1,2,3]])\n",
    "z = np.array([[1,2,3],[1,2,3]])\n",
    "\n",
    "# 집합 생성\n",
    "A = np.unique(y)\n",
    "B = np.unique(z)\n",
    "print(A)\n",
    "print(B)\n",
    "print(np.union1d(A,B))\n",
    "print(np.intersect1d(A,B))\n",
    "print(np.setdiff1d(A,B))\n",
    "print(np.setxor1d(A,B))"
   ]
  },
  {
   "cell_type": "code",
   "execution_count": 126,
   "metadata": {
    "collapsed": false,
    "scrolled": true
   },
   "outputs": [
    {
     "name": "stdout",
     "output_type": "stream",
     "text": [
      "[  1.   2.   3.   4.   5.   6.   7.   8.   9.  10.]\n",
      "55.0\n",
      "[  1.   3.   6.  10.  15.  21.  28.  36.  45.  55.]\n",
      "[  1.00000000e+00   2.00000000e+00   6.00000000e+00   2.40000000e+01\n",
      "   1.20000000e+02   7.20000000e+02   5.04000000e+03   4.03200000e+04\n",
      "   3.62880000e+05   3.62880000e+06]\n",
      "5.5\n",
      "8.25\n",
      "2.87228132327\n"
     ]
    }
   ],
   "source": [
    "# 통계함수\n",
    "# 합/평균/분산/표준편차\n",
    "# 평균 => 경향의 대표값\n",
    "# cumsum / comprod는 각 원소의 값을 누적하는 함수\n",
    "a = np.linspace(1,10,10)\n",
    "print(a)\n",
    "print(np.sum(a))\n",
    "print(np.cumsum(a))\n",
    "print(np.cumprod(a)) # ?\n",
    "print(np.mean(a))\n",
    "print(np.var(a)) # ?\n",
    "print(np.std(a))"
   ]
  },
  {
   "cell_type": "code",
   "execution_count": 135,
   "metadata": {
    "collapsed": false
   },
   "outputs": [
    {
     "name": "stdout",
     "output_type": "stream",
     "text": [
      "1.0\n",
      "10.0\n",
      "[  1.   2.   3.   4.   5.   6.   7.   8.   9.  10.]\n",
      "[  2.   3.   4.   5.   6.   7.   8.   9.  10.  11.]\n",
      "index\n",
      "4\n",
      "0\n",
      "value\n",
      "49\n",
      "9\n"
     ]
    }
   ],
   "source": [
    "# 최대/최소값\n",
    "\n",
    "a = np.linspace(1,10,10)\n",
    "b = a+1\n",
    "print(np.min(a))\n",
    "print(np.max(a))\n",
    "print(np.minimum(a,b)) #?\n",
    "print(np.maximum(a,b)) #?\n",
    "\n",
    "arr = np.array([9,19,29,39,49])\n",
    "\n",
    "print(\"index\")\n",
    "print(arr.argmax())\n",
    "print(arr.argmin())\n",
    "\n",
    "print(\"value\")\n",
    "print(arr[np.argmax(arr)]) # index 위치\n",
    "print(arr[np.argmin(arr)])"
   ]
  }
 ],
 "metadata": {
  "kernelspec": {
   "display_name": "Python 3",
   "language": "python",
   "name": "python3"
  },
  "language_info": {
   "codemirror_mode": {
    "name": "ipython",
    "version": 3
   },
   "file_extension": ".py",
   "mimetype": "text/x-python",
   "name": "python",
   "nbconvert_exporter": "python",
   "pygments_lexer": "ipython3",
   "version": "3.6.0"
  }
 },
 "nbformat": 4,
 "nbformat_minor": 2
}
