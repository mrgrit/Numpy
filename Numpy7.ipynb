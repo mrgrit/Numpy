{
 "cells": [
  {
   "cell_type": "code",
   "execution_count": 1,
   "metadata": {
    "collapsed": false,
    "scrolled": true
   },
   "outputs": [
    {
     "name": "stdout",
     "output_type": "stream",
     "text": [
      "[1 2 3 4 5 6 7 8 9]\n",
      "[[1 2 3]\n",
      " [4 5 6]\n",
      " [7 8 9]]\n",
      "[100   2   3   4   5   6   7   8   9]\n",
      "[[100   2   3]\n",
      " [  4   5   6]\n",
      " [  7   8   9]]\n",
      "[1 2 3 4 5 6 7 8 9]\n",
      "[1 4 7 2 5 8 3 6 9]\n",
      "[1 2 3 4 5 6 7 8 9]\n",
      "[1 4 7 2 5 8 3 6 9]\n"
     ]
    }
   ],
   "source": [
    "# shape 조정함수\n",
    "# Flatten/ravel 메소드의 차이\n",
    "# Flatten메소는 하나의 별도의 새로운 객체를 만들기 위해 copy 연산을 사용\n",
    "# ravel은 view만 제공하므로 변경하면 기존 ndarray가 갱신\n",
    "\n",
    "import numpy as np\n",
    "y = np.array(((1,2,3),(4,5,6),(7,8,9)))\n",
    "\n",
    "s = y.flatten()\n",
    "\n",
    "print(s)\n",
    "print(y)\n",
    "\n",
    "t=y.ravel()\n",
    "t[0] = 100\n",
    "print(t)\n",
    "print(y)\n",
    "\n",
    "# order : 다차원에서 flat으로 처리 시 order로 c언어 타입과 \n",
    "# fortran언어 타입으로 표현 가능\n",
    "y = np.array(((1,2,3),(4,5,6),(7,8,9)))\n",
    "\n",
    "s = y.flatten(order='C')\n",
    "print(s)\n",
    "t = y.flatten(order = 'F')\n",
    "print(t)\n",
    "# flatten : 원본 안바뀜\n",
    "# ravel : 원본 바꿈\n",
    "sr = y.ravel(order='C')\n",
    "print(sr)\n",
    "tr = y.ravel(order='F')\n",
    "print(tr)"
   ]
  },
  {
   "cell_type": "code",
   "execution_count": 14,
   "metadata": {
    "collapsed": false,
    "scrolled": true
   },
   "outputs": [
    {
     "name": "stdout",
     "output_type": "stream",
     "text": [
      "[[[ 0  1]\n",
      "  [ 2  3]\n",
      "  [ 4  5]\n",
      "  [ 6  7]]\n",
      "\n",
      " [[ 8  9]\n",
      "  [10 11]\n",
      "  [12 13]\n",
      "  [14 15]]\n",
      "\n",
      " [[16 17]\n",
      "  [18 19]\n",
      "  [20 21]\n",
      "  [22 23]]]\n",
      "[[[ 0  1]\n",
      "  [ 2  3]\n",
      "  [ 4  5]\n",
      "  [ 6  7]\n",
      "  [ 8  9]\n",
      "  [10 11]]\n",
      "\n",
      " [[12 13]\n",
      "  [14 15]\n",
      "  [16 17]\n",
      "  [18 19]\n",
      "  [20 21]\n",
      "  [22 23]]]\n"
     ]
    }
   ],
   "source": [
    "# reshape 함수\n",
    "# reshape(array-like, newshape(int, tuple), order='C')\n",
    "\n",
    "X = np.array(range(24))\n",
    "Y = X.reshape((3,4,2))\n",
    "print(Y)\n",
    "Z = np.reshape(Y,(2,6,2))\n",
    "print(Z)"
   ]
  },
  {
   "cell_type": "code",
   "execution_count": 16,
   "metadata": {
    "collapsed": false
   },
   "outputs": [
    {
     "name": "stdout",
     "output_type": "stream",
     "text": [
      "[11 22  8  5 19  1  3  5]\n"
     ]
    }
   ],
   "source": [
    "# concatenate 함수 : 1차원\n",
    "# concatenate((a1,a2,...),axis=0)로 array연결\n",
    "\n",
    "x = np.array([11,22])\n",
    "y = np.array([8,5,19])\n",
    "z = np.array([1,3,5])\n",
    "c = np.concatenate((x,y,z))\n",
    "print(c)"
   ]
  },
  {
   "cell_type": "code",
   "execution_count": 19,
   "metadata": {
    "collapsed": false,
    "scrolled": true
   },
   "outputs": [
    {
     "name": "stdout",
     "output_type": "stream",
     "text": [
      "[[[  0   1]\n",
      "  [  2   3]\n",
      "  [  4   5]]\n",
      "\n",
      " [[  6   7]\n",
      "  [  8   9]\n",
      "  [ 10  11]]\n",
      "\n",
      " [[100 101]\n",
      "  [102 103]\n",
      "  [104 105]]\n",
      "\n",
      " [[106 107]\n",
      "  [108 109]\n",
      "  [110 111]]]\n"
     ]
    }
   ],
   "source": [
    "# concatenate 함수 : n차원\n",
    "x = np.array(range(12))\n",
    "x = x.reshape((2,3,2))\n",
    "y = np.array(range(100,112))\n",
    "y = y.reshape((2,3,2))\n",
    "z = np.concatenate((x,y))\n",
    "print(z)"
   ]
  },
  {
   "cell_type": "code",
   "execution_count": 24,
   "metadata": {
    "collapsed": false,
    "scrolled": true
   },
   "outputs": [
    {
     "name": "stdout",
     "output_type": "stream",
     "text": [
      "[[ 2]\n",
      " [ 5]\n",
      " [18]\n",
      " [14]\n",
      " [ 4]]\n",
      "[[0 1 2]\n",
      " [3 4 5]]\n",
      "(2, 3)\n",
      "[[[0 1 2]]\n",
      "\n",
      " [[3 4 5]]]\n",
      "(2, 3)\n"
     ]
    }
   ],
   "source": [
    "# np.newaxis 변수\n",
    "# slice 처리와 같이 사용해서 축을 바꿈\n",
    "# 1행 배열은 1열 배열로, 2열 3열 배열은 3행 2열 배열로 변환\n",
    "x = np.array([2,5,18,14,4])\n",
    "y = x[:,np.newaxis]\n",
    "print(y)\n",
    "x = np.arange(6)\n",
    "y = x.reshape(2,3)\n",
    "print(y)\n",
    "print(y.shape)\n",
    "print(y[:,np.newaxis]) # ? (2,3,1)\n",
    "print(y.shape)"
   ]
  },
  {
   "cell_type": "code",
   "execution_count": 28,
   "metadata": {
    "collapsed": false,
    "scrolled": true
   },
   "outputs": [
    {
     "name": "stdout",
     "output_type": "stream",
     "text": [
      "[1 2 3 1 2 3]\n",
      "[[1 2 3]\n",
      " [1 2 3]]\n",
      "[[1 2 3 1 2 3]\n",
      " [1 2 3 1 2 3]]\n"
     ]
    }
   ],
   "source": [
    "# tile\n",
    "# A 배열에 대한 Reps는 axis에 따른 반복을 표시\n",
    "# numpy.tile(A,reps)\n",
    "# Reps가 scalar : 배수 만큼 증가\n",
    "# Reps가 vector : 행과 열의 배수 만큼 증가\n",
    "# Array_like를 ndarray로 변환\n",
    "# Tile함수를 이요해서 array_like모형에 따라 ndarray로 변환\n",
    "a = [1,2,3]\n",
    "b = np.tile(a,2)\n",
    "print(b)\n",
    "b = np.tile(a,(2,1))\n",
    "print(b)\n",
    "b = np.tile(a,(2,2))\n",
    "print(b)"
   ]
  },
  {
   "cell_type": "code",
   "execution_count": 36,
   "metadata": {
    "collapsed": false,
    "scrolled": true
   },
   "outputs": [
    {
     "name": "stdout",
     "output_type": "stream",
     "text": [
      "(3,)\n",
      "[[3 4 5]\n",
      " [1 9 0]]\n",
      "[[3 1]\n",
      " [4 9]\n",
      " [5 0]]\n",
      "(3,)\n"
     ]
    }
   ],
   "source": [
    "# row/column stack 함수 : 1\n",
    "# row_stack : row 단위 통합\n",
    "# column_stack : column 단위 통합\n",
    "A = np.array([3,4,5])\n",
    "B = np.array([1,9,0])\n",
    "print(np.shape(A))\n",
    "print(np.row_stack((A,B)))\n",
    "print(np.column_stack((A,B)))\n",
    "print(np.shape(A))"
   ]
  },
  {
   "cell_type": "code",
   "execution_count": 43,
   "metadata": {
    "collapsed": false,
    "scrolled": true
   },
   "outputs": [
    {
     "name": "stdout",
     "output_type": "stream",
     "text": [
      "(3, 3)\n",
      "(3, 6)\n",
      "[[3 4 5 3 4 5]\n",
      " [1 9 0 1 9 0]\n",
      " [4 6 8 4 6 8]]\n",
      "(6, 3)\n",
      "[[3 4 5]\n",
      " [1 9 0]\n",
      " [4 6 8]\n",
      " [3 4 5]\n",
      " [1 9 0]\n",
      " [4 6 8]]\n"
     ]
    }
   ],
   "source": [
    "# row/column stack 함수 2\n",
    "# Column_stack : 행은 그대로이고 열에 추가\n",
    "# Row_stack : 열은 그대로이고 행에 추가\n",
    "\n",
    "A = np.array([[3,4,5],\n",
    "             [1,9,0],\n",
    "             [4,6,8]])\n",
    "\n",
    "print(A.shape)\n",
    "print(np.column_stack((A,A)).shape)\n",
    "print(np.column_stack((A,A)))\n",
    "print(np.row_stack((A,A)).shape)\n",
    "print(np.row_stack((A,A)))"
   ]
  },
  {
   "cell_type": "code",
   "execution_count": 49,
   "metadata": {
    "collapsed": false
   },
   "outputs": [
    {
     "name": "stdout",
     "output_type": "stream",
     "text": [
      "(array([0, 0, 0, 1, 1, 1, 2, 2, 2]), array([0, 1, 3, 1, 2, 3, 0, 1, 3]))\n",
      "[142  56  65 288  10  12  55 142  18]\n",
      "9\n",
      "[ 0  1  3  5  6  7  8  9 11]\n"
     ]
    }
   ],
   "source": [
    "# nonzero 확인 함수\n",
    "# nonzero : Return the indices of the elements that are non-zero.\n",
    "# count_nonzero 함수 : 개수 확인 \n",
    "# flatnonzero 함수 : index 식별\n",
    "Z = np.array([[142,56,0,65],\n",
    "             [0,288,10,12],\n",
    "             [55,142,0,18]])\n",
    "print(Z.nonzero()) # ??\n",
    "z = Z[Z.nonzero()] # [142  56  65 288  10  12  55 142  18]\n",
    "print(z)\n",
    "\n",
    "print(np.count_nonzero(Z))\n",
    "print(np.flatnonzero(Z))"
   ]
  }
 ],
 "metadata": {
  "kernelspec": {
   "display_name": "Python 3",
   "language": "python",
   "name": "python3"
  },
  "language_info": {
   "codemirror_mode": {
    "name": "ipython",
    "version": 3
   },
   "file_extension": ".py",
   "mimetype": "text/x-python",
   "name": "python",
   "nbconvert_exporter": "python",
   "pygments_lexer": "ipython3",
   "version": "3.6.0"
  }
 },
 "nbformat": 4,
 "nbformat_minor": 2
}
