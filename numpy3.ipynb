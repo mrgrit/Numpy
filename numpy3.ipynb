{
 "cells": [
  {
   "cell_type": "code",
   "execution_count": 1,
   "metadata": {
    "collapsed": false
   },
   "outputs": [
    {
     "name": "stdout",
     "output_type": "stream",
     "text": [
      "[ 1.  2.  3.  4.]\n",
      "<type 'numpy.ndarray'>\n",
      "1\n",
      "(4,)\n",
      "4\n",
      "float64\n",
      "8\n",
      "\u0000\u0000\u0000\u0000\u0000\u0000�?\u0000\u0000\u0000\u0000\u0000\u0000\u0000@\u0000\u0000\u0000\u0000\u0000\u0000\b@\u0000\u0000\u0000\u0000\u0000\u0000\u0010@\n"
     ]
    }
   ],
   "source": [
    "# ndarray 생성 : 주요변수 1\n",
    "# ndarray 생성 시 shape, dtype, strides 인스턴스 속성이 생성됨\n",
    "import numpy as np\n",
    "\n",
    "l = [1.0,2.0,3.0,4.0]\n",
    "a = np.array(l)\n",
    "print(a)\n",
    "print(type(a))\n",
    "print(a.ndim) #차원 수 - 1\n",
    "print(a.shape) #다차원의 형태 - (4,)\n",
    "print(a.size) # 원소의 갯수 - 4\n",
    "print(a.dtype) #원소 타입 - float64\n",
    "print(a.itemsize)# 원소의 사이즈 - 8\n",
    "print(a.data)"
   ]
  },
  {
   "cell_type": "code",
   "execution_count": 19,
   "metadata": {
    "collapsed": false
   },
   "outputs": [
    {
     "name": "stdout",
     "output_type": "stream",
     "text": [
      "[ 1.  2.  3.  4.]\n",
      "[ 0.  0.  0.  0.]\n",
      "(8,)\n",
      "None\n",
      "<numpy.flatiter object at 0x02D87F70>\n",
      "[ 1.  2.  3.  4.]\n"
     ]
    }
   ],
   "source": [
    "print(a.real)# ndarray에 생성된 복소수에서 실수값\n",
    "print(a.imag) # ndarray에 생성된 복소수에서 허수값\n",
    "print(a.strides)# 원소의 크기\n",
    "print(a.base)# 다른 변수에 copy 했을 때 그 원본을 갖고 있음\n",
    "print(a.flat)# ndarray객체가 차원을 가질 경우 하나로 연계해서 index로 처리\n",
    "print(a.T)# 역행렬"
   ]
  },
  {
   "cell_type": "code",
   "execution_count": 24,
   "metadata": {
    "collapsed": false
   },
   "outputs": [
    {
     "name": "stdout",
     "output_type": "stream",
     "text": [
      "10\n",
      "<type 'instancemethod'>\n",
      "10\n",
      "<type 'function'>\n"
     ]
    }
   ],
   "source": [
    "# 함수와 메소드를 동릴하게 처리\n",
    "def add(self,x,y):\n",
    "    return x+y\n",
    "\n",
    "class A(object):\n",
    "    add=add\n",
    "    \n",
    "a = A()\n",
    "print(a.add(5,5))\n",
    "print(type(a.add)) #<type 'instancemethod'>\n",
    "print(add(a,5,5))\n",
    "print(type(add)) #<type 'function'>"
   ]
  },
  {
   "cell_type": "code",
   "execution_count": 38,
   "metadata": {
    "collapsed": false
   },
   "outputs": [
    {
     "name": "stdout",
     "output_type": "stream",
     "text": [
      "[[42 22]\n",
      " [12 44]\n",
      " [53 66]]\n",
      "[42 12 53]\n",
      "[[42 22]\n",
      " [12 44]\n",
      " [53 66]]\n",
      "[[42 22]\n",
      " [12 44]\n",
      " [53 66]]\n",
      "  C_CONTIGUOUS : True\n",
      "  F_CONTIGUOUS : False\n",
      "  OWNDATA : False\n",
      "  WRITEABLE : True\n",
      "  ALIGNED : True\n",
      "  UPDATEIFCOPY : False\n",
      "[[42 22]\n",
      " [12 44]\n",
      " [53 66]]\n",
      "  C_CONTIGUOUS : True\n",
      "  F_CONTIGUOUS : False\n",
      "  OWNDATA : False\n",
      "  WRITEABLE : True\n",
      "  ALIGNED : True\n",
      "  UPDATEIFCOPY : False\n"
     ]
    }
   ],
   "source": [
    "# numpy.copy vs ndarray.copy\n",
    "# copy(obj,order='K'), obj.copy(order='C)는 거의 동일한 처리함\n",
    "# order => {'C','F','A','K'}\n",
    "x = np.array([42,22,12,44,53,66],order = 'F').reshape(3,2)\n",
    "y = np.copy(x)\n",
    "z = x.copy()\n",
    "print(x)\n",
    "print(x[:,0]) # [42 12 53]\n",
    "print(y)\n",
    "print(z)\n",
    "print(x.flags)# 속성 보기\n",
    "\n",
    "xx = np.array([42,22,12,44,53,66],order = 'C').reshape(3,2)\n",
    "print(xx)\n",
    "print(xx.flags)"
   ]
  },
  {
   "cell_type": "code",
   "execution_count": 2,
   "metadata": {
    "collapsed": false
   },
   "outputs": [
    {
     "name": "stdout",
     "output_type": "stream",
     "text": [
      "<type 'builtin_function_or_method'>\n",
      "[ 0.  0.  0.  0.  0.  0.  0.  0.  0.]\n",
      "<type 'type'>\n",
      "[  1.72922976e-322   0.00000000e+000   0.00000000e+000   0.00000000e+000\n",
      "   0.00000000e+000   0.00000000e+000   0.00000000e+000   0.00000000e+000\n",
      "   0.00000000e+000   1.90893207e+136]\n",
      "<type 'numpy.ndarray'>\n"
     ]
    }
   ],
   "source": [
    "# ndarray 생성하기\n",
    "# numpy 내의 데이터 타입은 array 함수와 ndarray 생성자로 생성\n",
    "# ndarray는 인자가 너무 많아 간소화된 array 더 많이 사용\n",
    "# help(np.ndarray)\n",
    "x = np.array([0,0,0,0,0,0,0,0,0],dtype=np.float)\n",
    "print(type(np.array))\n",
    "print(x)\n",
    "\n",
    "y = np.ndarray(10)\n",
    "print(type(np.ndarray))\n",
    "print(y)\n",
    "print(type(y))"
   ]
  },
  {
   "cell_type": "code",
   "execution_count": 12,
   "metadata": {
    "collapsed": false
   },
   "outputs": [
    {
     "name": "stdout",
     "output_type": "stream",
     "text": [
      "[ 0.  0.  0.  0.  0.  0.]\n",
      "[ 0.  0.  0.  0.  0.  0.]\n",
      "[ 0.  0.  0.  0.  0.  0.]\n",
      "[[ 0.  0.  0.]\n",
      " [ 0.  0.  0.]]\n",
      "[ 0.  0.  0.]\n",
      "float64\n",
      "[ 1.  1.  1.]\n",
      "float64\n"
     ]
    }
   ],
   "source": [
    "# ndarray 데이터 변경 : float가 default\n",
    "z = np.ndarray(6) # 원소가 6개인 ndarray 생성\n",
    "print(z)\n",
    "z.fill(0)\n",
    "print(z)\n",
    "\n",
    "l = z.reshape(2,3)\n",
    "print(z)\n",
    "print(l)\n",
    "\n",
    "y = np.ndarray(3)\n",
    "print(y)\n",
    "print(y.dtype)\n",
    "y.fill(1)\n",
    "print(y)\n",
    "print(y.dtype)"
   ]
  },
  {
   "cell_type": "code",
   "execution_count": 17,
   "metadata": {
    "collapsed": false
   },
   "outputs": [
    {
     "name": "stdout",
     "output_type": "stream",
     "text": [
      "[ 1.  1.  1.]\n",
      "[[ 1.  1.  1.]\n",
      " [ 1.  1.  1.]\n",
      " [ 1.  1.  1.]]\n",
      "[[[ 1.  1.  1.]\n",
      "  [ 1.  1.  1.]\n",
      "  [ 1.  1.  1.]]\n",
      "\n",
      " [[ 1.  1.  1.]\n",
      "  [ 1.  1.  1.]\n",
      "  [ 1.  1.  1.]]]\n"
     ]
    }
   ],
   "source": [
    "# ones : 원소로 1을 가지는 ndarray 생성\n",
    "\n",
    "a = np.ones(3)\n",
    "print(a)\n",
    "\n",
    "a2 = np.ones((3,3))\n",
    "print(a2)\n",
    "\n",
    "a3 = np.ones((2,3,3))\n",
    "print(a3)"
   ]
  },
  {
   "cell_type": "code",
   "execution_count": 26,
   "metadata": {
    "collapsed": false,
    "scrolled": true
   },
   "outputs": [
    {
     "name": "stdout",
     "output_type": "stream",
     "text": [
      "[ 0.  0.  0.]\n",
      "1\n",
      "[[ 0.  0.  0.]\n",
      " [ 0.  0.  0.]\n",
      " [ 0.  0.  0.]]\n",
      "2\n",
      "[[[ 0.  0.  0.]\n",
      "  [ 0.  0.  0.]\n",
      "  [ 0.  0.  0.]]\n",
      "\n",
      " [[ 0.  0.  0.]\n",
      "  [ 0.  0.  0.]\n",
      "  [ 0.  0.  0.]]]\n",
      "3\n"
     ]
    }
   ],
   "source": [
    "# zeros : 0으로 채움 => 희소행렬에 유용\n",
    "a = np.zeros(3) \n",
    "print(a)\n",
    "print(a.ndim)\n",
    "\n",
    "a2 = np.zeros((3,3))\n",
    "print(a2)\n",
    "print(a2.ndim)\n",
    "\n",
    "a3 = np.zeros((2,3,3))\n",
    "print(a3)\n",
    "print(a3.ndim)"
   ]
  },
  {
   "cell_type": "code",
   "execution_count": 37,
   "metadata": {
    "collapsed": false
   },
   "outputs": [
    {
     "name": "stdout",
     "output_type": "stream",
     "text": [
      "[(0,  0.) (0,  0.) (0,  0.)]\n",
      "(3,)\n",
      "[(1,  0.) (1,  0.) (1,  0.)]\n",
      "[(1,  99.) (1,  99.) (1,  99.)]\n",
      "(1,  99.)\n",
      "1\n",
      "99.0\n"
     ]
    }
   ],
   "source": [
    "# zeros : 원소를 튜플로 생성\n",
    "xz = np.zeros(3,dtype=[('x',np.int32),('y',np.float32)])\n",
    "print(xz)\n",
    "print(xz.shape)\n",
    "xz['x'] = 1\n",
    "print(xz)\n",
    "xz['y'] = 99.0\n",
    "print(xz)\n",
    "\n",
    "print(xz[0])\n",
    "print(xz[0]['x'])\n",
    "print(xz[0]['y'])"
   ]
  },
  {
   "cell_type": "code",
   "execution_count": 42,
   "metadata": {
    "collapsed": false,
    "scrolled": true
   },
   "outputs": [
    {
     "name": "stdout",
     "output_type": "stream",
     "text": [
      "[ 0.  0.  0.]\n",
      "1\n",
      "[[ 0.  0.  0.]\n",
      " [ 0.  0.  0.]]\n",
      "2\n"
     ]
    }
   ],
   "source": [
    "# empty\n",
    "# shape를 넣어 array생성\n",
    "# empty(shape, dtype=float, order='C')\n",
    "# order = 'C' : row-major(C-style)\n",
    "# order = 'F' : column-major(F-style) order in memory\n",
    "\n",
    "a = np.empty(3)\n",
    "print(a)\n",
    "print(a.ndim)\n",
    "a = np.empty((2,3))\n",
    "print(a)\n",
    "print(a.ndim)"
   ]
  },
  {
   "cell_type": "code",
   "execution_count": 51,
   "metadata": {
    "collapsed": false
   },
   "outputs": [
    {
     "name": "stdout",
     "output_type": "stream",
     "text": [
      "[0 1 2 3 4 5]\n",
      "[[0 1 2]\n",
      " [3 4 5]]\n",
      "[[1 1 1]\n",
      " [1 1 1]]\n",
      "[[0 0 0]\n",
      " [0 0 0]]\n",
      "[[0 0 0]\n",
      " [0 0 0]]\n",
      "(2, 3)\n"
     ]
    }
   ],
   "source": [
    "# ones, zeros, empty likes\n",
    "# 기존에 생성된 배열을 ones, zeros, empty로 객체를 생성할 경우 사용\n",
    "x = np.arange(6) #[0 1 2 3 4 5]\n",
    "print(x)\n",
    "x = x.reshape((2,3))\n",
    "print(x)\n",
    "print(np.ones_like(x))\n",
    "print(np.zeros_like(x))\n",
    "print(np.empty_like(x))\n",
    "print(np.shape(x))#(2, 3)"
   ]
  },
  {
   "cell_type": "code",
   "execution_count": 56,
   "metadata": {
    "collapsed": false
   },
   "outputs": [
    {
     "name": "stdout",
     "output_type": "stream",
     "text": [
      "[[ 1.  0.  0.]\n",
      " [ 0.  1.  0.]\n",
      " [ 0.  0.  1.]]\n",
      "[[ 0.  1.  0.]\n",
      " [ 0.  0.  1.]\n",
      " [ 0.  0.  0.]]\n",
      "[[ 0.  0.  1.]\n",
      " [ 0.  0.  0.]\n",
      " [ 0.  0.  0.]]\n",
      "[[ 0.  0.  0.]\n",
      " [ 1.  0.  0.]\n",
      " [ 0.  1.  0.]]\n",
      "[[ 0.  0.  0.]\n",
      " [ 0.  0.  0.]\n",
      " [ 1.  0.  0.]]\n"
     ]
    }
   ],
   "source": [
    "#numpy.eye : 정방행렬을 만들고 대각선이 1로 세팅, k값으로 위치바꿈\n",
    "#numpy.eye(n,m=None, k=0, dtype=<type'float'>)\n",
    "a = np.eye(3,3,k=0)\n",
    "print(a)\n",
    "a = np.eye(3,3,k=1)\n",
    "print(a)\n",
    "a = np.eye(3,3,k=2)\n",
    "print(a)\n",
    "a = np.eye(3,3,k=-1)\n",
    "print(a)\n",
    "a = np.eye(3,3,k=-2)\n",
    "print(a)"
   ]
  },
  {
   "cell_type": "code",
   "execution_count": 58,
   "metadata": {
    "collapsed": false
   },
   "outputs": [
    {
     "name": "stdout",
     "output_type": "stream",
     "text": [
      "[[ 1.  0.  0.]\n",
      " [ 0.  1.  0.]\n",
      " [ 0.  0.  1.]]\n"
     ]
    }
   ],
   "source": [
    "#numpy.identity : 정방형 ndarray 타입이 생기고 대각선에는 1이 정의\n",
    "# numpy.identity(n,dtype = None)\n",
    "a = np.identity(3)\n",
    "print(a)"
   ]
  },
  {
   "cell_type": "code",
   "execution_count": 63,
   "metadata": {
    "collapsed": false
   },
   "outputs": [
    {
     "name": "stdout",
     "output_type": "stream",
     "text": [
      "[  1.      2.125   3.25    4.375   5.5     6.625   7.75    8.875  10.   ]\n",
      "(array([ 1.        ,  1.11111111,  1.22222222,  1.33333333,  1.44444444,\n",
      "        1.55555556,  1.66666667,  1.77777778,  1.88888889,  2.        ]), 0.1111111111111111)\n"
     ]
    }
   ],
   "source": [
    "# numpy.linspace : 시작과 종료, num(요소의 개수)로 생성\n",
    "# linspace(start,stop,num=50,endpoint=True,retstep=False)\n",
    "a = np.linspace(1,10,9)\n",
    "print(a)\n",
    "\n",
    "a = np.linspace(1,2,10,retstep=True) # retstep : step 간격 보여주기\n",
    "print(a)"
   ]
  },
  {
   "cell_type": "code",
   "execution_count": 68,
   "metadata": {
    "collapsed": false,
    "scrolled": false
   },
   "outputs": [
    {
     "name": "stdout",
     "output_type": "stream",
     "text": [
      "[  0.           1.11111111   2.22222222   3.33333333   4.44444444\n",
      "   5.55555556   6.66666667   7.77777778   8.88888889  10.        ]\n",
      "[ 0.  1.  2.  3.  4.  5.  6.  7.  8.  9.]\n"
     ]
    },
    {
     "data": {
      "image/png": "[encoded data removed]",
      "text/plain": [
       "<matplotlib.figure.Figure at 0x6f31270>"
      ]
     },
     "metadata": {},
     "output_type": "display_data"
    }
   ],
   "source": [
    "# linspace (endpoint) : 최종값 포함 유무\n",
    "\n",
    "%matplotlib inline\n",
    "\n",
    "import matplotlib.pyplot as plt\n",
    "N = 10\n",
    "y = np.zeros(N)\n",
    "x1 = np.linspace(0,10,N,endpoint=True)\n",
    "print(x1)\n",
    "x2 = np.linspace(0,10,N,endpoint=False)\n",
    "print(x2)\n",
    "plt.plot(x1,y,'o')\n",
    "plt.plot(x2,y+0.5,'o')\n",
    "plt.ylim([-0.5,1]) # y축의 범위 지정\n",
    "plt.show()"
   ]
  },
  {
   "cell_type": "code",
   "execution_count": 70,
   "metadata": {
    "collapsed": false,
    "scrolled": true
   },
   "outputs": [
    {
     "name": "stdout",
     "output_type": "stream",
     "text": [
      "(<type 'list'>, [1, 2, 3, 4, 5, 6, 7, 8, 9])\n",
      "(<type 'numpy.ndarray'>, array([ 1.,  2.,  3.,  4.,  5.,  6.,  7.,  8.,  9.]))\n",
      "[1 2 3 4 5 6 7 8 9]\n"
     ]
    }
   ],
   "source": [
    "# range와 numpy.arange비교\n",
    "# 배열객체 안의 메소드들이 계산에 대한 차이 반영\n",
    "# arange([start,]stop[,step,],dtype=None)\n",
    "\n",
    "l = range(1,10)\n",
    "print(type(l),l)\n",
    "# numpy.arange는 다양한 타입으로 array를 생성할 수 있음\n",
    "nparr = np.arange(1,10,dtype=np.float_)\n",
    "print(type(nparr),nparr)\n",
    "\n",
    "print(np.arange(1,10,dtype=np.int_))"
   ]
  },
  {
   "cell_type": "code",
   "execution_count": 72,
   "metadata": {
    "collapsed": false
   },
   "outputs": [
    {
     "name": "stdout",
     "output_type": "stream",
     "text": [
      "[1 2]\n",
      "<type 'numpy.ndarray'>\n"
     ]
    }
   ],
   "source": [
    "# asarray : List등을 ndarray 타입으로 전환하는 함수\n",
    "# asarray(array_likes, dtype=None, order=None)\n",
    "a = [1,2]\n",
    "b = np.asarray(a)\n",
    "\n",
    "print(b)\n",
    "print(type(b))"
   ]
  }
 ],
 "metadata": {
  "kernelspec": {
   "display_name": "Python 3",
   "language": "python",
   "name": "python3"
  },
  "language_info": {
   "codemirror_mode": {
    "name": "ipython",
    "version": 3
   },
   "file_extension": ".py",
   "mimetype": "text/x-python",
   "name": "python",
   "nbconvert_exporter": "python",
   "pygments_lexer": "ipython3",
   "version": "3.6.0"
  }
 },
 "nbformat": 4,
 "nbformat_minor": 2
}
