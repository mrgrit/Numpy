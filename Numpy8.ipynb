{
 "cells": [
  {
   "cell_type": "code",
   "execution_count": 2,
   "metadata": {
    "collapsed": false,
    "scrolled": false
   },
   "outputs": [
    {
     "name": "stdout",
     "output_type": "stream",
     "text": [
      "[ 1.  2.  3.]\n"
     ]
    },
    {
     "ename": "TypeError",
     "evalue": "write() argument must be str, not bytes",
     "output_type": "error",
     "traceback": [
      "\u001b[0;31m---------------------------------------------------------------------------\u001b[0m",
      "\u001b[0;31mTypeError\u001b[0m                                 Traceback (most recent call last)",
      "\u001b[0;32m<ipython-input-2-4f1154bd9995>\u001b[0m in \u001b[0;36m<module>\u001b[0;34m()\u001b[0m\n\u001b[1;32m      6\u001b[0m \u001b[0mprint\u001b[0m\u001b[1;33m(\u001b[0m\u001b[0mnparr\u001b[0m\u001b[1;33m)\u001b[0m\u001b[1;33m\u001b[0m\u001b[0m\n\u001b[1;32m      7\u001b[0m \u001b[0ms\u001b[0m \u001b[1;33m=\u001b[0m \u001b[0mopen\u001b[0m\u001b[1;33m(\u001b[0m\u001b[1;34m'arraystore.nd'\u001b[0m\u001b[1;33m,\u001b[0m\u001b[1;34m'w'\u001b[0m\u001b[1;33m)\u001b[0m\u001b[1;33m\u001b[0m\u001b[0m\n\u001b[0;32m----> 8\u001b[0;31m \u001b[0mnp\u001b[0m\u001b[1;33m.\u001b[0m\u001b[0msave\u001b[0m\u001b[1;33m(\u001b[0m\u001b[0ms\u001b[0m\u001b[1;33m,\u001b[0m\u001b[0mnparr\u001b[0m\u001b[1;33m)\u001b[0m\u001b[1;33m\u001b[0m\u001b[0m\n\u001b[0m\u001b[1;32m      9\u001b[0m \u001b[0mget_ipython\u001b[0m\u001b[1;33m(\u001b[0m\u001b[1;33m)\u001b[0m\u001b[1;33m.\u001b[0m\u001b[0mmagic\u001b[0m\u001b[1;33m(\u001b[0m\u001b[1;34m'ls'\u001b[0m\u001b[1;33m)\u001b[0m\u001b[1;33m\u001b[0m\u001b[0m\n\u001b[1;32m     10\u001b[0m \u001b[0ms\u001b[0m \u001b[1;33m=\u001b[0m \u001b[0mopen\u001b[0m\u001b[1;33m(\u001b[0m\u001b[1;34m'arraystore.nd'\u001b[0m\u001b[1;33m,\u001b[0m\u001b[1;34m'r'\u001b[0m\u001b[1;33m)\u001b[0m\u001b[1;33m\u001b[0m\u001b[0m\n",
      "\u001b[0;32mC:\\ProgramData\\Anaconda3\\lib\\site-packages\\numpy\\lib\\npyio.py\u001b[0m in \u001b[0;36msave\u001b[0;34m(file, arr, allow_pickle, fix_imports)\u001b[0m\n\u001b[1;32m    489\u001b[0m         \u001b[0marr\u001b[0m \u001b[1;33m=\u001b[0m \u001b[0mnp\u001b[0m\u001b[1;33m.\u001b[0m\u001b[0masanyarray\u001b[0m\u001b[1;33m(\u001b[0m\u001b[0marr\u001b[0m\u001b[1;33m)\u001b[0m\u001b[1;33m\u001b[0m\u001b[0m\n\u001b[1;32m    490\u001b[0m         format.write_array(fid, arr, allow_pickle=allow_pickle,\n\u001b[0;32m--> 491\u001b[0;31m                            pickle_kwargs=pickle_kwargs)\n\u001b[0m\u001b[1;32m    492\u001b[0m     \u001b[1;32mfinally\u001b[0m\u001b[1;33m:\u001b[0m\u001b[1;33m\u001b[0m\u001b[0m\n\u001b[1;32m    493\u001b[0m         \u001b[1;32mif\u001b[0m \u001b[0mown_fid\u001b[0m\u001b[1;33m:\u001b[0m\u001b[1;33m\u001b[0m\u001b[0m\n",
      "\u001b[0;32mC:\\ProgramData\\Anaconda3\\lib\\site-packages\\numpy\\lib\\format.py\u001b[0m in \u001b[0;36mwrite_array\u001b[0;34m(fp, array, version, allow_pickle, pickle_kwargs)\u001b[0m\n\u001b[1;32m    553\u001b[0m     \u001b[0m_check_version\u001b[0m\u001b[1;33m(\u001b[0m\u001b[0mversion\u001b[0m\u001b[1;33m)\u001b[0m\u001b[1;33m\u001b[0m\u001b[0m\n\u001b[1;32m    554\u001b[0m     used_ver = _write_array_header(fp, header_data_from_array_1_0(array),\n\u001b[0;32m--> 555\u001b[0;31m                                    version)\n\u001b[0m\u001b[1;32m    556\u001b[0m     \u001b[1;31m# this warning can be removed when 1.9 has aged enough\u001b[0m\u001b[1;33m\u001b[0m\u001b[1;33m\u001b[0m\u001b[0m\n\u001b[1;32m    557\u001b[0m     \u001b[1;32mif\u001b[0m \u001b[0mversion\u001b[0m \u001b[1;33m!=\u001b[0m \u001b[1;33m(\u001b[0m\u001b[1;36m2\u001b[0m\u001b[1;33m,\u001b[0m \u001b[1;36m0\u001b[0m\u001b[1;33m)\u001b[0m \u001b[1;32mand\u001b[0m \u001b[0mused_ver\u001b[0m \u001b[1;33m==\u001b[0m \u001b[1;33m(\u001b[0m\u001b[1;36m2\u001b[0m\u001b[1;33m,\u001b[0m \u001b[1;36m0\u001b[0m\u001b[1;33m)\u001b[0m\u001b[1;33m:\u001b[0m\u001b[1;33m\u001b[0m\u001b[0m\n",
      "\u001b[0;32mC:\\ProgramData\\Anaconda3\\lib\\site-packages\\numpy\\lib\\format.py\u001b[0m in \u001b[0;36m_write_array_header\u001b[0;34m(fp, d, version)\u001b[0m\n\u001b[1;32m    326\u001b[0m         \u001b[1;32mraise\u001b[0m \u001b[0mValueError\u001b[0m\u001b[1;33m(\u001b[0m\u001b[0mmsg\u001b[0m\u001b[1;33m)\u001b[0m\u001b[1;33m\u001b[0m\u001b[0m\n\u001b[1;32m    327\u001b[0m \u001b[1;33m\u001b[0m\u001b[0m\n\u001b[0;32m--> 328\u001b[0;31m     \u001b[0mfp\u001b[0m\u001b[1;33m.\u001b[0m\u001b[0mwrite\u001b[0m\u001b[1;33m(\u001b[0m\u001b[0mheader_prefix\u001b[0m\u001b[1;33m)\u001b[0m\u001b[1;33m\u001b[0m\u001b[0m\n\u001b[0m\u001b[1;32m    329\u001b[0m     \u001b[0mfp\u001b[0m\u001b[1;33m.\u001b[0m\u001b[0mwrite\u001b[0m\u001b[1;33m(\u001b[0m\u001b[0mheader\u001b[0m\u001b[1;33m)\u001b[0m\u001b[1;33m\u001b[0m\u001b[0m\n\u001b[1;32m    330\u001b[0m     \u001b[1;32mreturn\u001b[0m \u001b[0mversion\u001b[0m\u001b[1;33m\u001b[0m\u001b[0m\n",
      "\u001b[0;31mTypeError\u001b[0m: write() argument must be str, not bytes"
     ]
    }
   ],
   "source": [
    "# File 처리 함수\n",
    "# save/load \n",
    "# 생성된 ndarray를 파일에 저장(확장자 :nd)했다가 다시 load해서 처리 \n",
    "import numpy as np\n",
    "nparr = np.array([1,2,3.0]) # [ 1.  2.  3.]\n",
    "print(nparr)\n",
    "s = open('arraystore.nd','w')\n",
    "np.save(s,nparr)\n",
    "%ls\n",
    "s = open('arraystore.nd','r')\n",
    "ndx = np.load(s)\n",
    "print(ndx,type(ndx))\n",
    "s.seek(0) # ?\n",
    "print(s.read)"
   ]
  },
  {
   "cell_type": "code",
   "execution_count": 16,
   "metadata": {
    "collapsed": false,
    "scrolled": true
   },
   "outputs": [
    {
     "name": "stdout",
     "output_type": "stream",
     "text": [
      "[[ 0.08801998  0.91414365]\n",
      " [ 0.82762114  0.99709895]\n",
      " [ 0.16030928  0.59484096]]\n",
      "[[[ 0.32284681  0.63728587  0.58390516]\n",
      "  [ 0.17035238  0.00324357  0.59308259]\n",
      "  [ 0.07462463  0.56247107  0.99119158]]\n",
      "\n",
      " [[ 0.99260658  0.34255221  0.69728995]\n",
      "  [ 0.69450428  0.94492588  0.86162038]\n",
      "  [ 0.19477993  0.09308849  0.0702897 ]]\n",
      "\n",
      " [[ 0.08640284  0.18286272  0.24599245]\n",
      "  [ 0.48428915  0.48986566  0.62568618]\n",
      "  [ 0.65545773  0.84853136  0.9998179 ]]]\n"
     ]
    }
   ],
   "source": [
    "# numpy.random array 생성하기\n",
    "# 주요 생성 함수\n",
    "\n",
    "# rand : uniform distribution (uniform : 균등분포)\n",
    "# range, linspace  : 이산분포\n",
    "# rand(균등분포)에 따라 ndarray를 생성\n",
    "# 모양이 없을 경우는 scalar값을 생성\n",
    "# help(np.random.rand)\n",
    "\n",
    "a = np.random.rand(3,2)\n",
    "print(a)\n",
    "\n",
    "b = np.random.rand(3,3,3)\n",
    "print(b)"
   ]
  },
  {
   "cell_type": "code",
   "execution_count": 3,
   "metadata": {
    "collapsed": false,
    "scrolled": true
   },
   "outputs": [
    {
     "name": "stdout",
     "output_type": "stream",
     "text": [
      "[[-0.15727097 -0.25143301]\n",
      " [-0.14515272 -0.39046268]\n",
      " [-1.03856808 -0.88390432]]\n",
      "[[[-0.9098083  -0.84821149 -0.24611246]\n",
      "  [ 0.76833986 -1.76746843  1.64571563]\n",
      "  [-0.57413941  1.60183074 -1.43337086]]\n",
      "\n",
      " [[ 0.90421784  0.29724612 -1.36506787]\n",
      "  [-0.41376519 -0.05702288  0.63631351]\n",
      "  [ 0.84051923 -0.15289766 -1.87772959]]\n",
      "\n",
      " [[ 2.7093421   0.29019131  0.46205681]\n",
      "  [-0.20852793  0.74661594 -0.45690716]\n",
      "  [ 0.05568799 -0.42159079  2.15681406]]]\n"
     ]
    },
    {
     "data": {
      "image/png": "[encoded data removed]",
      "text/plain": [
       "<matplotlib.figure.Figure at 0x24837a1dc50>"
      ]
     },
     "metadata": {},
     "output_type": "display_data"
    }
   ],
   "source": [
    "# randn : \"standard normal\" distribution\n",
    "# randn(정규분포)에 따라 ndarray를 생성\n",
    "# shape없을 경우 scalar 값 생성\n",
    "import matplotlib.pyplot as plt\n",
    "\n",
    "a = np.random.randn(3,2)\n",
    "print(a)\n",
    "\n",
    "b = np.random.randn(3,3,3)\n",
    "print(b)\n",
    "\n",
    "plt.plot(a)\n",
    "plt.show()\n"
   ]
  },
  {
   "cell_type": "code",
   "execution_count": 29,
   "metadata": {
    "collapsed": false,
    "scrolled": true
   },
   "outputs": [
    {
     "name": "stdout",
     "output_type": "stream",
     "text": [
      "[2 2 6 6 6 5 6 2 5 6]\n",
      "<type 'numpy.ndarray'>\n",
      "10\n",
      "[1 0 1 0 0 1 0 1 0 1]\n",
      "[0 0 0 0 0 0 0 0 0 0]\n",
      "[[0 0 2 1]\n",
      " [2 1 3 2]]\n"
     ]
    }
   ],
   "source": [
    "# randint\n",
    "# randint(low,high,size) \n",
    "# 최대값 : high -1\n",
    "# size를 tuple로 선언시 다차원 배열 생성\n",
    "outcome = np.random.randint(1,7,size=10)\n",
    "print(outcome)\n",
    "print(type(outcome))\n",
    "print(len(outcome))\n",
    "\n",
    "print(np.random.randint(2, size=10))\n",
    "\n",
    "print(np.random.randint(1,size=10))\n",
    "print(np.random.randint(5,size=(2,4)))"
   ]
  },
  {
   "cell_type": "code",
   "execution_count": 33,
   "metadata": {
    "collapsed": false,
    "scrolled": true
   },
   "outputs": [
    {
     "name": "stdout",
     "output_type": "stream",
     "text": [
      "[ 0.49062324  0.72769911  0.35405515  0.9197007   0.72026938]\n",
      "[[ 0.87795614  0.4289101   0.22953116  0.28442131]\n",
      " [ 0.28209321  0.80575236  0.40388799  0.53518985]\n",
      " [ 0.0088881   0.53668696  0.67143905  0.03362133]]\n",
      "[[-1.45870867  2.91770875 -1.0290676  -3.19499501]\n",
      " [ 5.41244135 -1.27295014 -2.9562929   5.37187468]\n",
      " [-2.69337247 -1.48123474  4.69448405  0.83410817]]\n"
     ]
    }
   ],
   "source": [
    "# random_sample => 균등분포\n",
    "# random_sample(size) 에 size가 없을 경우 하나의 값만 생성하고 \n",
    "# size를 주면 ndarray를 생성\n",
    "\n",
    "print(np.random.random_sample(5))\n",
    "\n",
    "x = np.random.random_sample((3,4))\n",
    "print(x)\n",
    "a = -3.4\n",
    "b = 5.9\n",
    "A = (b - a)* np.random.random_sample((3,4)) +a\n",
    "print(A)"
   ]
  },
  {
   "cell_type": "code",
   "execution_count": 43,
   "metadata": {
    "collapsed": false,
    "scrolled": true
   },
   "outputs": [
    {
     "name": "stdout",
     "output_type": "stream",
     "text": [
      "[ 0.39143108  0.57838404  0.14157161  0.31897288  0.58896193]\n",
      "[ 0.47930911  0.270808    0.46297582  0.10198064  0.83522499]\n",
      "[[ 0.57712339  0.50694136]\n",
      " [ 0.93523668  0.32521336]]\n"
     ]
    }
   ],
   "source": [
    "# ranf\n",
    "print(np.random.ranf(5))\n",
    "print(np.random.random_sample(5))\n",
    "print(np.random.ranf((2,2)))"
   ]
  },
  {
   "cell_type": "code",
   "execution_count": 45,
   "metadata": {
    "collapsed": false,
    "scrolled": true
   },
   "outputs": [
    {
     "name": "stdout",
     "output_type": "stream",
     "text": [
      "[ 0.12326516  0.45978879  0.89992768  0.38432793  0.59980269]\n",
      "[ 0.53704574  0.41671905  0.67417435  0.43371771  0.9322295 ]\n",
      "[[ 0.77444572  0.85695881]\n",
      " [ 0.26425924  0.89536523]]\n"
     ]
    }
   ],
   "source": [
    "# random\n",
    "\n",
    "print(np.random.random(5))\n",
    "print(np.random.random_sample(5))\n",
    "print(np.random.random((2,2)))"
   ]
  },
  {
   "cell_type": "code",
   "execution_count": 53,
   "metadata": {
    "collapsed": false,
    "scrolled": false
   },
   "outputs": [
    {
     "name": "stdout",
     "output_type": "stream",
     "text": [
      "<mtrand.RandomState object at 0x0724E3F0>\n",
      "[[ 0.77132064  0.02075195  0.63364823  0.74880388  0.49850701]\n",
      " [ 0.22479665  0.19806286  0.76053071  0.16911084  0.08833981]]\n",
      "[[ 0.26551159  0.10854853  0.00429143 -0.17460021  0.43302619]\n",
      " [ 1.20303737 -0.96506567  1.02827408  0.22863013  0.44513761]]\n"
     ]
    }
   ],
   "source": [
    "# RANDOM GENERATOR\n",
    "# RandomState : 생성\n",
    "# size를 argument로 취하는데 기본값은 None\n",
    "# size가 None이면 하나의 값이 생성, return\n",
    "# size가 정수이면 1-D 행렬이 랜덤변수들로 채워져 return\n",
    "\n",
    "rng = np.random.RandomState(10)\n",
    "print(rng)\n",
    "z = np.asarray(rng.uniform(size=(2,5)))\n",
    "print(z)\n",
    "z1 = np.asarray(rng.standard_normal(size=(2,5)))\n",
    "print(z1) # ?"
   ]
  },
  {
   "cell_type": "code",
   "execution_count": 57,
   "metadata": {
    "collapsed": false
   },
   "outputs": [
    {
     "name": "stdout",
     "output_type": "stream",
     "text": [
      "[ 1.9151945   6.22108771  4.37727739  7.85358584  7.79975808]\n",
      "[ 1.9151945   6.22108771  4.37727739  7.85358584  7.79975808]\n",
      "('MT19937', array([2260313690,  348938374, 3392255680, 2909033704,  140638832,\n",
      "       1016917445, 4051655600,  976942074, 1628339371,  932989997,\n",
      "        417988570, 3106230116, 3847402493, 2846838083, 1854065059,\n",
      "       2365406610,  631390710, 3006558680, 1855109059,  230064328,\n",
      "        758538135, 1999313224, 2345696623, 4174662269,  280561112,\n",
      "       1706268812, 4182435209, 1014638053,  610687375, 2331525695,\n",
      "       3432349290, 1302213857, 2461808965, 1211193860, 3120004290,\n",
      "        159403718,  785407708, 1103582039, 2181742160, 4003474818,\n",
      "       3333684546, 2164025542, 3329631014, 3331897623,   44841503,\n",
      "       2124190575, 4103716897, 1985760015, 3231349092, 2579223365,\n",
      "       2045506447, 1684183393, 4105280043,  264622240, 3457386480,\n",
      "       3640204395, 3308050770, 1877785652, 1671495555,  489816736,\n",
      "       3645271096, 1053221445, 4106060276, 3422181599, 2615443735,\n",
      "       1804244509, 3539838858, 3452443235, 2399113344, 1565187405,\n",
      "       2474733055, 1149428025, 3675651662, 3578586687, 2141819878,\n",
      "       3912530560, 3882533229,  502129057, 2262588256,  243511723,\n",
      "       3669928491, 2909147132, 2533094556, 1693913013, 1031455591,\n",
      "        892347669, 1204715320, 2778280540, 3103938066, 1548020698,\n",
      "       2371526184, 2362735796,  601580678, 4163515833, 2286774353,\n",
      "       3385525426, 3435050721, 3859726043,  658564489, 1680167334,\n",
      "        395160378, 1918020476, 2179531800,  750714379, 1277823100,\n",
      "       3279993862,  968375750, 2645945689, 1435905461,  453299951,\n",
      "       2432221527, 2543208725,  977186272,  374115648, 1760836837,\n",
      "       1339597678, 4072942346, 1502786855, 1263608786, 2235649091,\n",
      "       3748764825,  105321286, 3494441207,  889085055, 1548213403,\n",
      "       3930247105, 1261616741, 3701589864, 2730870951, 2328741100,\n",
      "       1549885863,  885362289, 4236685512, 4183414762, 2700385771,\n",
      "       4179975148, 1324969786, 3735228741, 3337696400,  342695004,\n",
      "       1189947554,  799007231, 3479707634, 2754945644,  450211552,\n",
      "       2069028394, 1489498981, 3077105910, 2775627593, 1485941576,\n",
      "       1906706347, 1363343182, 1154927348, 2663740949, 3518726712,\n",
      "       3224543204, 2088074182, 3636799541,  876485687, 1331764607,\n",
      "       1721688505, 2144969088, 4090073983, 1223328334, 1893823894,\n",
      "       4023014570, 2390997307,  722079132,  534353189, 4068461700,\n",
      "       4005844884, 3362478912, 2758321754, 2734444009,  970440841,\n",
      "       3012468549, 1113307510, 4226440206, 4008367189, 2219268773,\n",
      "        870392716, 2499253257, 3083981992, 2008109066, 1151287397,\n",
      "       2169435052, 2384932835, 1612096122, 2171119261, 3321318748,\n",
      "       1317674930, 1449643218, 2113476231, 3313810858, 1519782446,\n",
      "       2630003892, 2464758765,    9731462, 1052415654, 3656592014,\n",
      "       2841565583, 3624077715, 2983921733,  562911616, 1962641375,\n",
      "        614269341,  785306885, 4273760749, 1888303864, 3171945333,\n",
      "        747233216,  368198111, 3813072643, 1724804430,  681854442,\n",
      "       4131373003, 2999398905, 2879312256, 3658689550, 2347669835,\n",
      "       2664829219, 2807075018, 3253655972, 2002544366, 1643713543,\n",
      "       1186919809, 3215199810, 4029160488, 1068185241,  915000036,\n",
      "       2065976610, 4276053157, 3527758033, 2401161367,  842168689,\n",
      "        507969091, 1804685371,  958670079, 2845853863, 2795655679,\n",
      "        229490910,  774557515, 2141840939, 1784889067, 1679680385,\n",
      "       2648417388, 2429705148, 2754293229, 1433256960,  126113575,\n",
      "       3636255678, 3156875032, 3485050346, 2225833886,  477422240,\n",
      "       2922494267, 3447028538, 4123742736, 1624289207, 1362957341,\n",
      "        578091799, 1188249426, 4254745168, 2077134384, 3248839208,\n",
      "        920104920,  777072686,  919500975,  954689369, 3734345697,\n",
      "        963527021, 1627543331,  610865187, 3652041124, 2034149562,\n",
      "       3544763031,   77621747, 4128985850, 1587424817, 1354288442,\n",
      "       3619314760, 1708376797,  326940888, 2058024529, 3459367601,\n",
      "       1470000018, 1095941426, 2700094647, 1369430284,  240943488,\n",
      "        361842083,  961851483, 2191681518, 3308512613, 2054940002,\n",
      "       4265757199, 1166040063, 3479215563, 3448883455,  660622673,\n",
      "       1004507739,  444314655, 3089971362, 3441658735, 2054386395,\n",
      "        721606098, 2808281070, 3988922231, 2981069157, 3187660644,\n",
      "       1700438419,  465094909, 2067097955,  781034920, 3593382873,\n",
      "        221537540, 4058240238, 2649691518, 1464747161, 2171116181,\n",
      "        277760487, 2657734871, 1713714962, 2306668985, 1921083486,\n",
      "       3101885825,  663912034, 2109009255, 1604183668,  752862648,\n",
      "       2154754068, 2146568730, 2346085114,  227251157, 3434674477,\n",
      "       1825639385,  614299416, 1712896225,  115429852, 3468720208,\n",
      "       3812351631,  144413573, 1565979984, 4039450152, 4216138990,\n",
      "       1663623049, 2247050244, 3060868821, 1566337412, 3382686158,\n",
      "       2509623692, 1263563671, 1360200562, 1826970920, 2705971464,\n",
      "       1615712977, 4286498113, 4230861534, 2996730271, 1690375340,\n",
      "       2889722659, 3759201910,  195871346,  657582540, 3854023474,\n",
      "        443002808, 1522982692,  524536023, 4259312476, 1550095226,\n",
      "       4167482166,  156698076, 4237215123, 3869358353, 1811122148,\n",
      "       1187724156, 2737100772, 1406546615,  432196015,  814245354,\n",
      "       4129949113, 1940145834, 1587754779, 3914244363, 2890981831,\n",
      "       2532990725, 4220043234,  922349960, 3682307144, 3519797929,\n",
      "       1872948906, 3421600291, 1356585955, 2660558280, 2593655527,\n",
      "       1829590266, 4071773680, 3568093215, 2602224556, 2629361598,\n",
      "       3225297981, 3639800786, 1400651480,  769725007, 3509817332,\n",
      "       1138316693, 1429898715, 3029690960, 3512041792, 2693047090,\n",
      "       3025060641, 2934039187,  271210632, 1213597215,  466142102,\n",
      "       1489185601, 2431230993, 1940741760, 1856343276, 3695963554,\n",
      "        277495980, 2525997388, 3753281030, 3833241502, 1492571399,\n",
      "        203035164, 2190351553, 3620139539, 2628646633, 2244091324,\n",
      "       1274966498, 3847098676,  958180754, 1263580506, 2803396943,\n",
      "        804048593,  578223533, 3232363764, 3810610989, 2666351419,\n",
      "        274246722, 3045961342, 2654133257,  338915900,  135050623,\n",
      "       3714710897, 1122319361, 1930288394, 1514757446, 2648411551,\n",
      "       2665976818, 1922954710, 2414027436, 1364684265,  395814907,\n",
      "        803208761, 2521936447,  631823100,  570463898, 1034907987,\n",
      "        179273695, 2234303106, 2679028703, 2219522624, 2189595580,\n",
      "       3160356306, 2041672333, 2986536412, 3816979234, 3054356004,\n",
      "       1932200261,  487488630, 2462430590, 3646338000, 1173263836,\n",
      "        542681657, 1746431646, 2016274431,   50704002, 2910955822,\n",
      "       3136959849, 2562376297, 2669796713,  218959494, 2736407903,\n",
      "       2112935337, 2184602348, 3131955204, 1988918897, 1979433465,\n",
      "        111037611, 1307546936, 1620099127, 1388754931,  507698292,\n",
      "       3193492631, 2715688218, 2909281280, 1057165160,  951970226,\n",
      "       1479088468, 2466700726,  110695581, 2588386715, 3894786584,\n",
      "       1363081750, 2562094110,  673223621, 3455478874,  319727983,\n",
      "       3420367804, 2595169198, 3952587382,  841364433, 3277142633,\n",
      "       2615888764,  353016384,  897840736,  884587774, 2356096243,\n",
      "        231721642, 2574185937,   13589462,  865475638, 4107744461,\n",
      "       1653527351, 2649632148, 1167334644, 1569430142, 3609105483,\n",
      "       3463259590, 1179723884, 2115248217, 3982052755,  487211103,\n",
      "       2363841818, 3724666385, 2275560911, 3830737525,  353381279,\n",
      "       1123433786, 1682768477, 2473812269, 1408021729, 1584109860,\n",
      "       4045088634, 1624954728, 1941754630, 4153741554, 3653232275,\n",
      "       1526795240, 3729710413,  332973006, 1697259304, 4217938175,\n",
      "       3876775776, 2901195850, 1611722990, 2548595086, 4265201072,\n",
      "         76991528, 3763912135, 1696021447,  123633128,  225556227,\n",
      "       3703923807, 4055295818, 1989679936,  572855962, 2422414634,\n",
      "       4293793217, 3757525477, 2042976673, 4132414536, 4241580006,\n",
      "       2077062331, 2198064263, 3998557957,  563847915, 2851070600,\n",
      "       3105990049, 2079504127, 1211296335,   61687311, 1982828632,\n",
      "       2130228175, 1557705711, 1212550942, 1205493497,  185279173,\n",
      "       4165883878,  773213171,  344698889, 1395910106, 3707815628,\n",
      "       1334816435, 2620911066, 1935228689,  180053610, 4078401641,\n",
      "       1736554240, 3643702302, 3315857509,  341577669, 2807850657,\n",
      "        391126227, 2467381806, 2838072779, 3039008762, 3826797962,\n",
      "        421136520, 3827508772, 1428234374,  798512555, 1640145905,\n",
      "       2443857604, 1869726726,  374514272, 2743520988, 3451965119,\n",
      "       3983557115, 1676015003, 2941385220, 2985199325], dtype=uint32), 10, 0, 0.0)\n"
     ]
    }
   ],
   "source": [
    "# RandomState : seed/get_state\n",
    "# seed는 반복 가틍한 것을 처리할 때 사용\n",
    "# get_state()로 현재상태 출력\n",
    "np.random.seed(1234) # 반복을 고정 => 테스트 할때 값이 계속 바뀌면 안되니 한번 만든 랜덤을 고정시켜서 유지\n",
    "print(np.random.uniform(0,10,5))\n",
    "\n",
    "r = np.random.RandomState(1234)\n",
    "print(r.uniform(0,10,5))\n",
    "print(r.get_state())"
   ]
  },
  {
   "cell_type": "code",
   "execution_count": 64,
   "metadata": {
    "collapsed": false,
    "scrolled": true
   },
   "outputs": [
    {
     "name": "stdout",
     "output_type": "stream",
     "text": [
      "[2 1 4 0 3]\n",
      "[2 1 4 0 3]\n",
      "[2 1 4 0 3]\n",
      "[2 1 4 0 3]\n",
      "[2 1 4 0 3]\n"
     ]
    }
   ],
   "source": [
    "# seed : 반복적인 random을 동일한 범주에서 처리하기 위한 방식으로 random 변수 고정\n",
    "for i in range(5):\n",
    "    arr = np.arange(5) # [0,1,2,3,4]\n",
    "    np.random.seed(1) # Reset random state ??\n",
    "    np.random.shuffle(arr) \n",
    "    print(arr)\n"
   ]
  },
  {
   "cell_type": "code",
   "execution_count": 68,
   "metadata": {
    "collapsed": false,
    "scrolled": true
   },
   "outputs": [
    {
     "name": "stdout",
     "output_type": "stream",
     "text": [
      "[4 5 4 6 7 4 7 2 6 6 6 1 7 2 5 6 4 4 7 4 3 3 4 3 3 4 5 6 4 3 6 6 6 4 4 4 4\n",
      " 4 6 5 4 4 4 4 8 4 5 3 5 7 7 4 6 6 5 6 5 8 4 4 5 2 7 5 6 6 4 5 3 8 6 5 6 7\n",
      " 5 4 7 5 4 7 4 6 9 6 6 7 4 4 4 3 4 3 5 4 5 4 7 4 4 7]\n",
      "4.94\n",
      "0.38775\n"
     ]
    }
   ],
   "source": [
    "# distributions\n",
    "# binomial : 이항 분포\n",
    "# n은 trial, p는 구간[0,1]중 확률\n",
    "\n",
    "# number of trials, probability of each trial\n",
    "n, p = 10, .5\n",
    "# result of flipping a coin 10 times\n",
    "s = np.random.binomial(n,p,100) # ??\n",
    "print(s)\n",
    "print(np.mean(s))\n",
    "\n",
    "a = sum(np.random.binomial(9,0.1,20000)== 0)/20000.\n",
    "print(a)"
   ]
  },
  {
   "cell_type": "code",
   "execution_count": 5,
   "metadata": {
    "collapsed": false,
    "scrolled": true
   },
   "outputs": [
    {
     "name": "stdout",
     "output_type": "stream",
     "text": [
      "[-0.21993978 -0.19154177 -0.07196601 -0.23185468 -0.59602552 -0.12930823\n",
      " -0.02043441 -0.15905237 -0.22878658 -0.94762128]\n",
      "True\n",
      "True\n"
     ]
    },
    {
     "data": {
      "image/png": "[encoded data removed]",
      "text/plain": [
       "<matplotlib.figure.Figure at 0x24839a4a160>"
      ]
     },
     "metadata": {},
     "output_type": "display_data"
    }
   ],
   "source": [
    "# uniform\n",
    "# low를 포함하지만 high를 포함하지 않는 정규분포\n",
    "s = np.random.uniform(-1,0,10)\n",
    "print(s)\n",
    "print(np.all(s >= -1))\n",
    "print(np.all(s < 0))\n",
    "import matplotlib.pyplot as plt\n",
    "count, bins, ignored = plt.hist(s, 15, normed=True)\n",
    "plt.plot(bins,np.ones_like(bins),linewidth=2, color='r')\n",
    "plt.show()"
   ]
  },
  {
   "cell_type": "code",
   "execution_count": 82,
   "metadata": {
    "collapsed": false,
    "scrolled": true
   },
   "outputs": [
    {
     "name": "stdout",
     "output_type": "stream",
     "text": [
      "[-1.1271881  -2.42087667  0.1777158  -0.84087104 -0.66292226 -1.78083852\n",
      "  0.06794355 -0.32302284  0.47472728 -1.34425716]\n",
      "(10,)\n"
     ]
    },
    {
     "data": {
      "image/png": "[encoded data removed]",
      "text/plain": [
       "<matplotlib.figure.Figure at 0x7180f30>"
      ]
     },
     "metadata": {},
     "output_type": "display_data"
    },
    {
     "name": "stdout",
     "output_type": "stream",
     "text": [
      "(3, 4, 2)\n",
      "[[[-0.54260061  1.24166426]\n",
      "  [ 0.52550231  1.62256392]\n",
      "  [ 2.38195176 -0.48011647]\n",
      "  [-0.20074127  1.94735258]]\n",
      "\n",
      " [[ 1.68888777  0.61723506]\n",
      "  [ 1.33529266 -1.04876782]\n",
      "  [ 0.0120617   0.55480578]\n",
      "  [ 0.85588302  0.61701668]]\n",
      "\n",
      " [[ 1.43497151  1.00040169]\n",
      "  [ 0.1068902  -2.04444556]\n",
      "  [ 0.1081474  -1.16998121]\n",
      "  [-0.92334693 -1.16085293]]]\n"
     ]
    },
    {
     "data": {
      "image/png": "[encoded data removed]",
      "text/plain": [
       "<matplotlib.figure.Figure at 0x7a4acb0>"
      ]
     },
     "metadata": {},
     "output_type": "display_data"
    }
   ],
   "source": [
    "# standard_normal\n",
    "s = np.random.standard_normal(10)\n",
    "print(s)\n",
    "print(s.shape)\n",
    "\n",
    "plt.plot(s)\n",
    "plt.show()\n",
    "\n",
    "s1 = np.random.standard_normal(size=(3,4,2))\n",
    "print(s1.shape)\n",
    "print(s1)\n",
    "plt.plot(s)\n",
    "plt.show()"
   ]
  },
  {
   "cell_type": "code",
   "execution_count": 89,
   "metadata": {
    "collapsed": false,
    "scrolled": true
   },
   "outputs": [
    {
     "name": "stdout",
     "output_type": "stream",
     "text": [
      "[4 6 5 2 8 0 3 1 7 9]\n",
      "[ 1 12  9  4 15]\n",
      "[[0 1 2]\n",
      " [3 4 5]\n",
      " [6 7 8]]\n",
      "[[6 7 8]\n",
      " [3 4 5]\n",
      " [0 1 2]]\n"
     ]
    }
   ],
   "source": [
    "# 주요 순서치리 함수\n",
    "# permutation : 순열의 값인 원소로 선택된 배열의 원소를 섞기\n",
    "\n",
    "arr = np.random.permutation(10)\n",
    "print(arr)\n",
    "\n",
    "arr1 = np.random.permutation([1,4,9,12,15])\n",
    "print(arr1)\n",
    "\n",
    "arr2 = np.arange(9).reshape((3,3))\n",
    "print(arr2)\n",
    "arr3 = np.random.permutation(arr2)\n",
    "print(arr3)"
   ]
  },
  {
   "cell_type": "code",
   "execution_count": 96,
   "metadata": {
    "collapsed": false,
    "scrolled": true
   },
   "outputs": [
    {
     "name": "stdout",
     "output_type": "stream",
     "text": [
      "[4 2 3]\n",
      "[2 2 2]\n",
      "[[1 3 0]\n",
      " [2 4 0]\n",
      " [3 1 3]]\n"
     ]
    }
   ],
   "source": [
    "# choice : int\n",
    "# choice(a,size=None, replace=True, p=None)\n",
    "# A 값을 int, size는 모형, p는 나오는 원소에 대한 확률을 정의\n",
    "# this is equivalent to np.random.randint(0,5,3)\n",
    "print(np.random.choice(5,3))\n",
    "# p값은 선택되는 확률\n",
    "# 0,1,2,3,4의 확률\n",
    "print(np.random.choice(5,3,p=[0.1,0,0.3,0.6,0]))\n",
    "print(np.random.choice(5,(3,3)))"
   ]
  },
  {
   "cell_type": "code",
   "execution_count": 99,
   "metadata": {
    "collapsed": false,
    "scrolled": false
   },
   "outputs": [
    {
     "name": "stdout",
     "output_type": "stream",
     "text": [
      "[1 2 0]\n",
      "[3 2 4]\n"
     ]
    }
   ],
   "source": [
    "# choice : replace 속성\n",
    "# replace=False : 사이즈 변경 불가\n",
    "\n",
    "a = np.random.choice(5,3, replace=False)\n",
    "print(a)\n",
    "\n",
    "b = np.random.permutation(np.arange(5))[:3]\n",
    "print(b)"
   ]
  },
  {
   "cell_type": "code",
   "execution_count": 104,
   "metadata": {
    "collapsed": false
   },
   "outputs": [
    {
     "name": "stdout",
     "output_type": "stream",
     "text": [
      "[0 1 2 3 4 5 6 7 8 9]\n",
      "[9 4 2 1 3 6 0 7 5 8]\n",
      "[[0 1 2]\n",
      " [3 4 5]\n",
      " [6 7 8]]\n",
      "[[0 1 2]\n",
      " [6 7 8]\n",
      " [3 4 5]]\n"
     ]
    }
   ],
   "source": [
    "# shuffle : 선택된 배열의 원소 섞기\n",
    "arr = np.arange(10)\n",
    "print(arr)\n",
    "np.random.shuffle(arr)\n",
    "print(arr)\n",
    "\n",
    "arr2 = np.arange(9).reshape((3,3))\n",
    "print(arr2)\n",
    "np.random.shuffle(arr2)\n",
    "print(arr2)"
   ]
  }
 ],
 "metadata": {
  "kernelspec": {
   "display_name": "Python 3",
   "language": "python",
   "name": "python3"
  },
  "language_info": {
   "codemirror_mode": {
    "name": "ipython",
    "version": 3
   },
   "file_extension": ".py",
   "mimetype": "text/x-python",
   "name": "python",
   "nbconvert_exporter": "python",
   "pygments_lexer": "ipython3",
   "version": "3.6.0"
  }
 },
 "nbformat": 4,
 "nbformat_minor": 2
}
