{
 "cells": [
  {
   "cell_type": "code",
   "execution_count": 2,
   "metadata": {
    "collapsed": false,
    "scrolled": true
   },
   "outputs": [
    {
     "name": "stdout",
     "output_type": "stream",
     "text": [
      "[[30]]\n",
      "[[30]]\n",
      "[[ 1  4  9 16]]\n",
      "[ 1  4  9 16]\n",
      "30\n",
      "[ 1  4  9 16]\n"
     ]
    }
   ],
   "source": [
    "#Matrix Class\n",
    "# NDARRAY와 MATRIX구분\n",
    "# matrix는 Mathlab기능 지원\n",
    "# ndarray : 다차원, matrix : 2차원\n",
    "# * 연산자 - ndarray : 요소간 곱, matrix : 행렬곱\n",
    "# Matrix는 dot/* 처리가 동일, ndarray는 */muliply 가 동일\n",
    "\n",
    "import numpy as np\n",
    "m1 = np.matrix([1,2,3,4])\n",
    "#print(m1*m1)\n",
    "print(m1*m1.T) # .T => Transpose\n",
    "print(m1.dot(m1.T))\n",
    "print(np.multiply(m1,m1))\n",
    "\n",
    "a1 = np.array([1,2,3,4])\n",
    "print(a1*a1.T)\n",
    "print(a1.dot(a1.T))\n",
    "print(np.multiply(a1,a1))"
   ]
  },
  {
   "cell_type": "code",
   "execution_count": 16,
   "metadata": {
    "collapsed": false
   },
   "outputs": [
    {
     "name": "stdout",
     "output_type": "stream",
     "text": [
      "(2, 2)\n",
      "(2, 2)\n",
      "[[1 2]\n",
      " [3 4]]\n",
      "[[4 3]\n",
      " [2 1]]\n",
      "[[5 5]\n",
      " [5 5]]\n",
      "[[-3 -1]\n",
      " [ 1  3]]\n"
     ]
    }
   ],
   "source": [
    "# Matrix 덧셈/뺄셈\n",
    "# 행렬끼리 shape가 같으면 덧셈과 뺄셈 가능\n",
    "A = np.array([[1,2],[3,4]])\n",
    "print(np.shape(A))\n",
    "B = np.array([[4,3],[2,1]])\n",
    "print(np.shape(B))\n",
    "print(A)\n",
    "print(B)\n",
    "print(A+B)\n",
    "print(A-B)"
   ]
  },
  {
   "cell_type": "code",
   "execution_count": 13,
   "metadata": {
    "collapsed": false
   },
   "outputs": [
    {
     "name": "stdout",
     "output_type": "stream",
     "text": [
      "(2, 2)\n",
      "(2, 2)\n",
      "[[1 2]\n",
      " [3 4]]\n",
      "[[4 3]\n",
      " [2 1]]\n",
      "[[4 6]\n",
      " [6 4]]\n",
      "[[ 0.25        0.66666667]\n",
      " [ 1.5         4.        ]]\n"
     ]
    },
    {
     "data": {
      "text/plain": [
       "(object,)"
      ]
     },
     "execution_count": 13,
     "metadata": {},
     "output_type": "execute_result"
    }
   ],
   "source": [
    "# Matrix 곱셈 / 나눗셈\n",
    "A = np.array([[1,2],[3,4]])\n",
    "print(np.shape(A))\n",
    "B = np.array([[4,3],[2,1]])\n",
    "print(np.shape(B))\n",
    "print(A)\n",
    "print(B)\n",
    "print(A*B)\n",
    "print(A/B)\n",
    "# truedivide\n",
    "# floordivide (소수점 버림)\n",
    "dir(int)\n",
    "dir(float)\n",
    "5.3//3.2\n",
    "5.3.__floordiv__(3.2)\n",
    "#5.__ceil__(3)\n",
    "dir(int)\n",
    "int.__bases__ # 상속받은 class display"
   ]
  },
  {
   "cell_type": "code",
   "execution_count": 27,
   "metadata": {
    "collapsed": false,
    "scrolled": true
   },
   "outputs": [
    {
     "name": "stdout",
     "output_type": "stream",
     "text": [
      "[[1 2]\n",
      " [3 4]]\n",
      "[[4 3]\n",
      " [2 1]]\n",
      "[[ 8  5]\n",
      " [20 13]]\n",
      "<type 'numpy.ndarray'>\n"
     ]
    }
   ],
   "source": [
    "# Matrix Dot\n",
    "# ndarray 타입으로 리턴\n",
    "A = np.array([[1,2],[3,4]])\n",
    "B = np.array([[4,3],[2,1]])\n",
    "\n",
    "print(A)\n",
    "print(B)\n",
    "print(A.dot(B))\n",
    "print(type(A.dot(B)))"
   ]
  },
  {
   "cell_type": "code",
   "execution_count": 3,
   "metadata": {
    "collapsed": false,
    "scrolled": true
   },
   "outputs": [
    {
     "name": "stdout",
     "output_type": "stream",
     "text": [
      "('shape of persons : ', (4, 3))\n",
      "(3,)\n",
      "(array([ 1398.4,  1190.7,   990. ,   974.5]), <type 'numpy.ndarray'>, (4,))\n",
      "[ 13.984  11.907   9.9     9.745]\n"
     ]
    }
   ],
   "source": [
    "# Dot 연산 : ndarray(4,3) * (3,1) => (4,1)\n",
    "persons=np.array([[100,175,210],[90,160,150],[200,50,100],[120,0,310]])\n",
    "print(\"shape of persons : \", persons.shape)\n",
    "price_per_100g = np.array([2.98,3.90,1.99])\n",
    "print(price_per_100g.shape)\n",
    "price_in_cent = np.dot(persons,price_per_100g)\n",
    "print(price_in_cent, type(price_in_cent), price_in_cent.shape)\n",
    "\n",
    "#price_in_cent = np.dot(persons[2],price_per_100g)\n",
    "#print(price_in_cent, type(price_in_cent))\n",
    "price_in_euro=price_in_cent/np.array([100,100,100,100])\n",
    "print(price_in_euro)\n",
    "# print\n",
    "# 2.X : python 키워드 => 괄호를 하든 안하든 상관 없음\n",
    "# 3.X : function"
   ]
  },
  {
   "cell_type": "code",
   "execution_count": 9,
   "metadata": {
    "collapsed": false,
    "scrolled": true
   },
   "outputs": [
    {
     "name": "stdout",
     "output_type": "stream",
     "text": [
      "[[2 3]\n",
      " [3 5]]\n",
      "[[17  1]\n",
      " [28  1]]\n",
      "<class 'numpy.matrixlib.defmatrix.matrix'>\n"
     ]
    }
   ],
   "source": [
    "# Matrix타입 : 연산(*)은 dot과 동일\n",
    "xm = np.matrix(((2,3),(3,5)))\n",
    "ym = np.matrix(((1,2),(5,-1)))\n",
    "print(xm)\n",
    "print(xm*ym)\n",
    "print(type(xm))"
   ]
  },
  {
   "cell_type": "code",
   "execution_count": 12,
   "metadata": {
    "collapsed": false,
    "scrolled": true
   },
   "outputs": [
    {
     "name": "stdout",
     "output_type": "stream",
     "text": [
      "[[13 21]\n",
      " [21 34]]\n",
      "[[13 21]\n",
      " [21 34]]\n"
     ]
    }
   ],
   "source": [
    "# Matrix 연산(*) : asmatrix\n",
    "# Matrix타입과 ndarray간의 연산을 할 경우 ndarray -> matrix로 전환후 연산처리\n",
    "xm = np.matrix(((2,3),(3,5)))\n",
    "xa = np.array(((2,3),(3,5)))\n",
    "print(np.mat(xa)*xm) # mat => type casting이 아니고 새로운 객체를 만듬\n",
    "print(np.asmatrix(xa)*xm)"
   ]
  },
  {
   "cell_type": "code",
   "execution_count": 14,
   "metadata": {
    "collapsed": false
   },
   "outputs": [
    {
     "name": "stdout",
     "output_type": "stream",
     "text": [
      "b'\\x01\\x00\\x00\\x00\\x02\\x00\\x00\\x00\\x03\\x00\\x00\\x00'\n",
      "4\n",
      "b'\\x01\\x00\\x00\\x00\\x02\\x00\\x00\\x00'\n",
      "b'\\x00\\x00\\x00\\x01\\x00\\x00\\x00\\x02\\x00\\x00\\x00\\x03'\n",
      ">i4\n"
     ]
    },
    {
     "data": {
      "text/plain": [
       "b'\\x00'"
      ]
     },
     "execution_count": 14,
     "metadata": {},
     "output_type": "execute_result"
    }
   ],
   "source": [
    "# numpy dtype class\n",
    "# dtype class 이해하기\n",
    "# encoding (bit -> byte -> text)\n",
    "# MS 코덱 : CP949\n",
    "# byte -> text : decode , text -> byte : encode\n",
    "# python 2 : byte(ascii) 기본\n",
    "# python 3 : text(unicode) 기본 (한글 :  조합형/ 완성형)\n",
    "# 메모리 처리방식\n",
    "# Little-endian / Big-endian\n",
    "# little : 좌측부터, Big : 우측부터 저장\n",
    "# itemsize 메소드는 저장되는 메모리의 크기를 지정\n",
    "# littel-endian은 좌측, big-endian은 우츨부터 저장\n",
    "# numpy의 배열은 flat으로 관리하고 view만 배열형태로 보여줌\n",
    "ar = np.array([1,2,3],dtype='<i4')\n",
    "print(ar.tostring())\n",
    "\n",
    "l = ar.tostring()\n",
    "print(ar.itemsize)\n",
    "\n",
    "print(l[0:8])\n",
    "\n",
    "\n",
    "ar = np.array([1,2,3],dtype='>i4')\n",
    "print(ar.tostring())\n",
    "print(ar.dtype)\n",
    "\n",
    "bytes(1)"
   ]
  },
  {
   "cell_type": "code",
   "execution_count": 15,
   "metadata": {
    "collapsed": false,
    "scrolled": true
   },
   "outputs": [
    {
     "name": "stdout",
     "output_type": "stream",
     "text": [
      "b'a\\x00\\x00\\x00b\\x00\\x00\\x00abc\\x00'\n",
      "|S4\n",
      "b'a\\x00\\x00\\x00b\\x00\\x00\\x00ab'\n"
     ]
    }
   ],
   "source": [
    "# not-relevant : endian에 상관없이 문자를 저장할 때 제일 왼쪽부터 저장\n",
    "sr = np.array(['a','b',\"abc\"],dtype='|S4')\n",
    "print(sr.tostring())\n",
    "print(sr.dtype)\n",
    "print(sr.tostring()[0:10])#abab"
   ]
  },
  {
   "cell_type": "code",
   "execution_count": 19,
   "metadata": {
    "collapsed": false,
    "scrolled": false
   },
   "outputs": [
    {
     "name": "stdout",
     "output_type": "stream",
     "text": [
      "[[ True False  True False]\n",
      " [ True  True False False]\n",
      " [False  True False False]]\n",
      "[[ True False  True False]\n",
      " [ True  True False False]\n",
      " [False  True False False]]\n",
      "[[1 0 1 0]\n",
      " [1 1 0 0]\n",
      " [0 1 0 0]]\n",
      "[1 2 3]\n"
     ]
    },
    {
     "data": {
      "text/plain": [
       "0"
      ]
     },
     "execution_count": 19,
     "metadata": {},
     "output_type": "execute_result"
    }
   ],
   "source": [
    "# 데이터타입 이해하기\n",
    "# bool -> int, float->int 로 전환\n",
    "B = np.array([[142,56,189,65],\n",
    "             [299,288,10,12],\n",
    "             [55,142,17,18]])\n",
    "print(B>=82)\n",
    "\n",
    "b = B>82\n",
    "print(b)\n",
    "c = b.astype(np.int)\n",
    "print(c)\n",
    "\n",
    "\n",
    "ar = np.array([1.3,2.7,3.5],dtype='<i4')\n",
    "print(ar.astype(np.int)) # astype : 현재 type을 바꾸겠다.\n",
    "bool.__bases__\n",
    "True+1\n",
    "10*False\n",
    "# 상품 추천때 활용"
   ]
  },
  {
   "cell_type": "code",
   "execution_count": 37,
   "metadata": {
    "collapsed": false,
    "scrolled": true
   },
   "outputs": [
    {
     "name": "stdout",
     "output_type": "stream",
     "text": [
      "[1 2 3]\n",
      "<type 'numpy.ndarray'>\n",
      "[ 1.  2.]\n",
      "<type 'numpy.ndarray'>\n",
      "(array([ True, False,  True], dtype=bool), <type 'numpy.ndarray'>)\n",
      "(array([ True, False,  True], dtype=bool), <type 'numpy.ndarray'>)\n",
      "[<type 'numpy.ndarray'>, <type 'object'>]\n"
     ]
    }
   ],
   "source": [
    "# int / float / bool_ 생성\n",
    "# numpy 내의 데이터 타입은 ndarray생성자로 사용\n",
    "y = np.int16([1,2,3])\n",
    "print(y)\n",
    "print(type(y))\n",
    "\n",
    "x = np.float32([1,2])\n",
    "print(x)\n",
    "print(type(x))\n",
    "\n",
    "ba = np.array([True,False,True],dtype=np.bool)\n",
    "print(ba,type(ba))\n",
    "\n",
    "b = np.bool_([True,False,True])\n",
    "print(b,type(b))\n",
    "\n",
    "print(b.__class__.mro())#?"
   ]
  },
  {
   "cell_type": "code",
   "execution_count": 42,
   "metadata": {
    "collapsed": false
   },
   "outputs": [
    {
     "name": "stdout",
     "output_type": "stream",
     "text": [
      "int16\n",
      "10\n",
      "[1 2 3]\n"
     ]
    }
   ],
   "source": [
    "# numpy.dtype\n",
    "# numpy.dtype 생성자\n",
    "# numpy.dtype은 ndarray 생성에 필요한 데이터 타입을 정의하기 위한 클래스\n",
    "# numpy.dtype(object,align=False,copy=False)\n",
    "dt = np.dtype(np.int16) # (np.int16, np.float64, np.string) => tuple 형태로 여러 형태를 넣을 수 있음\n",
    "print(dt)\n",
    "s = np.array(10,dtype=dt)\n",
    "print(s)\n",
    "s1 = np.array([1,2,3],dtype=dt)\n",
    "print(s1)"
   ]
  },
  {
   "cell_type": "code",
   "execution_count": 49,
   "metadata": {
    "collapsed": false,
    "scrolled": true
   },
   "outputs": [
    {
     "name": "stdout",
     "output_type": "stream",
     "text": [
      "[('f0', '<i8')]\n",
      "[[(0,) (0,)]\n",
      " [(0,) (0,)]\n",
      " [(0,) (0,)]]\n",
      "[('f0', '<i8')]\n",
      "[[(0, 0) (0, 0)]\n",
      " [(0, 0) (0, 0)]\n",
      " [(0, 0) (0, 0)]]\n",
      "[('f0', '<i4'), ('f1', '<i4')]\n",
      "[[(0, 0) (0, 0)]\n",
      " [(0, 0) (0, 0)]\n",
      " [(0, 0) (0, 0)]]\n",
      "[('f0', '<i8'), ('f1', '<i8')]\n"
     ]
    }
   ],
   "source": [
    "# numpy.dtype 생성 예시\n",
    "# Array 원소가 하나의 타입만 새팅할 수도 있고, 여러개의 데이터 타입을 구성할 수 있음\n",
    "# Structured type : one field\n",
    "dt = np.dtype([('f0','<i8')])# tuple형태로 type을 두개를 넣음\n",
    "print(dt)\n",
    "data1 = np.zeros((3,2),dtype=dt)\n",
    "print(data1)\n",
    "print(data1.dtype)\n",
    "\n",
    "# Structured type : two field\n",
    "data = np.zeros((3,2),dtype=\"int, int\")\n",
    "print(data)\n",
    "print(data.dtype)#[('f0', '<i4'), ('f1', '<i4')] ?\n",
    "\n",
    "dt = np.dtype([('f0','<i8'),('f1','<i8')])\n",
    "data1 = np.zeros((3,2), dtype=dt)\n",
    "print(data1)\n",
    "print(data1.dtype)"
   ]
  },
  {
   "cell_type": "code",
   "execution_count": 59,
   "metadata": {
    "collapsed": false,
    "scrolled": true
   },
   "outputs": [
    {
     "name": "stdout",
     "output_type": "stream",
     "text": [
      "<type 'numpy.ndarray'>\n",
      "(array([ 1.,  2.,  3.]), 8)\n",
      "d\n",
      "None\n",
      "float64\n",
      "()\n",
      "12\n"
     ]
    }
   ],
   "source": [
    "# numpy.dtype 변수\n",
    "# dtype 변수 -1\n",
    "f_ = np.array([1.0,2.0,3.0]) # class 생성됨 =>  속성이 있다. => .연산으로 접근\n",
    "print(type(f_))\n",
    "print(f_,f_.itemsize) #요소들의 크기\n",
    "print(f_.dtype.char) # 타입 표시\n",
    "print(f_.dtype.names) # ordered list field명 없으면 None ?\n",
    "print(f_.dtype.name) # 현재 타입 명\n",
    "print(f_.dtype.shape)\n",
    "print(f_.dtype.num) # builtin 타입의 순서 ?"
   ]
  },
  {
   "cell_type": "code",
   "execution_count": 67,
   "metadata": {
    "collapsed": false,
    "scrolled": false
   },
   "outputs": [
    {
     "name": "stdout",
     "output_type": "stream",
     "text": [
      "<type 'numpy.float64'>\n",
      "<f8\n",
      "1\n",
      "=\n",
      "8\n",
      "False\n"
     ]
    }
   ],
   "source": [
    "# dtype 변수 -2\n",
    "f = np.array([1.0,2.0,3.0])\n",
    "print(f_.dtype.type) # numpy 내의 타입으로 표시\n",
    "print(f_.dtype.str) # Array-protocol type string 표시, <:little-endian으로 float 8개 바이트 처리\n",
    "print(f_.dtype.isbuiltin) # 1: numpy 내부 타입, 2: 사용자 정의 타입\n",
    "print(f_.dtype.byteorder)# =:기본, <:little, >:big, |:not applicable\n",
    "print(f_.dtype.alignment)# 타입 내 요소들의  구성 크기\n",
    "print(f_.dtype.isalignedstruct) # ?"
   ]
  },
  {
   "cell_type": "code",
   "execution_count": 79,
   "metadata": {
    "collapsed": false,
    "scrolled": true
   },
   "outputs": [
    {
     "name": "stdout",
     "output_type": "stream",
     "text": [
      "[('', '<f8')]\n",
      "False\n",
      "None\n",
      "float64\n",
      "f\n",
      "True\n",
      "0\n",
      "None\n",
      "None\n"
     ]
    }
   ],
   "source": [
    "# dtype 변수 - 3\n",
    "f_ = np.array([1.0,2.0,3.0])\n",
    "print(f_.dtype.descr) # Array interface 표시\n",
    "print(f_.dtype.hasobject)# any reference-counted objects in any fields or sub-dtype 존재시  True\n",
    "print(f_.dtype.subdtype)\n",
    "print(f_.dtype.base)# 기본 정의된 타입\n",
    "print(f_.dtype.kind)# array-protocol type\n",
    "print(f_.dtype.isnative)# python 내부 byte order 사용 여부\n",
    "print(f_.dtype.flags)# interpret 되어진 bit flags\n",
    "print(f_.dtype.fields)# Dtype 정의한 fields\n",
    "print(f_.dtype.metadata)"
   ]
  },
  {
   "cell_type": "code",
   "execution_count": 87,
   "metadata": {
    "collapsed": false,
    "scrolled": false
   },
   "outputs": [
    {
     "name": "stdout",
     "output_type": "stream",
     "text": [
      "[( 1,) ( 3,) ( 5,) ( 7,) (10,)]\n",
      "1\n",
      "(5,)\n",
      "[('x', '<i4')]\n",
      "[ 1  3  5  7 10]\n",
      "[(10,) (10,) (10,) (10,) (10,)]\n"
     ]
    }
   ],
   "source": [
    "# dtype class column 이름 부여하기\n",
    "# DTYPE 구조\n",
    "# ndarray 내부 원소에 이름 부여\n",
    "# 컬럼별 처리를 위해 index이외의 이름을 부여하여 직접 접근\n",
    "\n",
    "xz = np.linspace(1,10,5,dtype=[('x',np.int32)]) # 컬럼이름부여\n",
    "print(xz)\n",
    "print(xz.ndim)\n",
    "print(xz.shape)\n",
    "print(xz.dtype)\n",
    "print(xz['x']) # 컬럼이름으로 값 출력\n",
    "\n",
    "xz['x'].fill(10)\n",
    "print(xz)"
   ]
  },
  {
   "cell_type": "code",
   "execution_count": 101,
   "metadata": {
    "collapsed": false,
    "scrolled": true
   },
   "outputs": [
    {
     "name": "stdout",
     "output_type": "stream",
     "text": [
      "|S10\n",
      "float64\n",
      "[('aaa',  10000.)]\n",
      "['aaa']\n",
      "[ 10000.]\n",
      "|S10\n",
      "float64\n",
      "[('a', 'S10'), ('b', '<f8')]\n",
      "('aaa',  10000.)\n",
      "[('aaa',  10000.)]\n",
      "['aaa']\n",
      "[ 10000.]\n"
     ]
    }
   ],
   "source": [
    "# dtype에 컬럼명 정의 : tuple\n",
    "# dtype 정의 시 컬럼명, 컬럼값을 튜클로 정의하면 컬럼명으로 접근가능\n",
    "dt = np.dtype([('a',np.str_,10),('b',np.float64)])\n",
    "print(dt['a'])\n",
    "print(dt['b'])\n",
    "\n",
    "a = np.array([('aaa',10000)],dtype = dt)\n",
    "print(a)\n",
    "print(a['a']) # ?\n",
    "print(a['b']) # ?\n",
    "\n",
    "dt = np.dtype([('a','S10'),('b','f8')])\n",
    "print(dt['a'])\n",
    "print(dt['b'])\n",
    "print(dt)\n",
    "\n",
    "a = np.array(('aaa',10000),dtype=dt)\n",
    "print(a)\n",
    "a = np.array([('aaa',10000)],dtype=dt)\n",
    "print(a)\n",
    "print(a['a']) # ?\n",
    "print(a['b'])"
   ]
  },
  {
   "cell_type": "code",
   "execution_count": 110,
   "metadata": {
    "collapsed": false,
    "scrolled": true
   },
   "outputs": [
    {
     "name": "stdout",
     "output_type": "stream",
     "text": [
      "[(0,  0.,  0.) (0,  0.,  0.) (0,  0.,  0.) (0,  0.,  0.)]\n",
      "[('col1', '<i4'), ('col2', '<f8'), ('col3', '<f8')]\n",
      "[(10,  0.,  0.) (22,  0.,  0.) (44,  0.,  0.) (22,  0.,  0.)]\n",
      "[('dahl', 20) ('park', 30)]\n",
      "['dahl' 'park']\n"
     ]
    }
   ],
   "source": [
    "#dtype에 컬럼명 정의 : dict\n",
    "# dict내에 names에 컬럼명 정의, formats에 타입 또는 컬럼명과 타입으로 정의\n",
    "# list[(key, value),(key, value)] => dict로 변환 가능\n",
    "\n",
    "dict_type = {'names':['col1','col2','col3'], 'formats':[np.int_, np.float_,np.float_]}\n",
    "\n",
    "a = np.zeros(4,dtype=dict_type)\n",
    "print(a)\n",
    "print(a.dtype)\n",
    "a['col1'] = (10,22.3,44.5,22.1)\n",
    "print(a)\n",
    "\n",
    "dict_type1 = {'surname':('S25',0),'age':(np.uint8,25)}\n",
    "\n",
    "b = np.array([(\"dahl\",20),(\"park\",30)],dtype=dict_type1)\n",
    "print(b)\n",
    "print(b[\"surname\"])"
   ]
  },
  {
   "cell_type": "code",
   "execution_count": 119,
   "metadata": {
    "collapsed": false,
    "scrolled": true
   },
   "outputs": [
    {
     "name": "stdout",
     "output_type": "stream",
     "text": [
      "[[(0,  0.) (0,  0.)]\n",
      " [(0,  0.) (0,  0.)]]\n",
      "2\n",
      "(2, 2)\n",
      "[('x', '<i4'), ('y', '<f4')]\n",
      "[[0 0]\n",
      " [0 0]]\n",
      "[[ 0.  0.]\n",
      " [ 0.  0.]]\n",
      "[[(10,  0.) (10,  0.)]\n",
      " [(10,  0.) (10,  0.)]]\n"
     ]
    }
   ],
   "source": [
    "# dtype에 컬럼명 정의 : 배열처리\n",
    "# ndarray 생성 시 내부에 (int, float)를 원소로 한 2차원 배열이 생성됨\n",
    "xz = np.zeros((2,2),dtype=[('x',np.int32),('y',np.float32)])\n",
    "print(xz)\n",
    "print(xz.ndim)\n",
    "print(xz.shape)\n",
    "print(xz.dtype)\n",
    "print(xz['x'])\n",
    "print(xz['y'])\n",
    "\n",
    "xz['x'].fill(10)\n",
    "print(xz)"
   ]
  },
  {
   "cell_type": "code",
   "execution_count": 22,
   "metadata": {
    "collapsed": false,
    "scrolled": false
   },
   "outputs": [
    {
     "name": "stdout",
     "output_type": "stream",
     "text": [
      "('col2', 'col1')\n",
      "[0 0 0]\n",
      "('X', 'Y')\n"
     ]
    }
   ],
   "source": [
    "# 컬럼명 변경\n",
    "# dtype내의 names 변수로 컬럼을 조회 및 갱신 가능\n",
    "\n",
    "x = np.zeros(3, dtype={'col1':('i1',1,'title 1'),'col2':('f4',0,'title 2')}) # 중간에 숫자 0, 1 ?\n",
    "\n",
    "print(x.dtype.names) \n",
    "print(x['col1'])\n",
    "x.dtype.names = ('X','Y')\n",
    "print(x.dtype.names)"
   ]
  },
  {
   "cell_type": "code",
   "execution_count": 142,
   "metadata": {
    "collapsed": false,
    "scrolled": true
   },
   "outputs": [
    {
     "name": "stdout",
     "output_type": "stream",
     "text": [
      "[(1,  2., 'Hello') (2,  3., 'world')]\n",
      "(2,)\n",
      "(1,  2., 'Hello')\n",
      "1\n",
      "2.0\n",
      "Hello\n",
      "[1 2]\n",
      "[ 2.  3.]\n",
      "['Hello' 'world']\n"
     ]
    }
   ],
   "source": [
    "# 컬럼명으로 접근/변경\n",
    "# numpy.array생성시 sequence각 요소에 대해 접근변수와 타입을 정할 수 있음\n",
    "x = np.array([(1,2.,'Hello'),(2,3.,'world')],\n",
    "            dtype=[('foo','i4'),('bar','f4'),('baz','S10')])\n",
    "# 요소 순서대로 int, float, string\n",
    "print(x)\n",
    "print(x.shape)\n",
    "\n",
    "print(x[0])\n",
    "print(x[0]['foo'])\n",
    "print(x[0]['bar'])\n",
    "print(x[0]['baz'])\n",
    "\n",
    "print(x['foo'])\n",
    "print(x['bar'])\n",
    "print(x['baz'])"
   ]
  },
  {
   "cell_type": "code",
   "execution_count": 153,
   "metadata": {
    "collapsed": false,
    "scrolled": true
   },
   "outputs": [
    {
     "name": "stdout",
     "output_type": "stream",
     "text": [
      "[( 1.5,  2.5, [[ 1.,  2.], [ 1.,  2.]])\n",
      " ( 3. ,  4. , [[ 4.,  5.], [ 4.,  5.]])\n",
      " ( 1. ,  3. , [[ 2.,  6.], [ 2.,  6.]])]\n",
      "[( 1.5,  2.5) ( 3. ,  4. ) ( 1. ,  3. )]\n",
      "[( 1.5, [[ 1.,  2.], [ 1.,  2.]]) ( 3. , [[ 4.,  5.], [ 4.,  5.]])\n",
      " ( 1. , [[ 2.,  6.], [ 2.,  6.]])]\n"
     ]
    }
   ],
   "source": [
    "# 컬럼명 접근 : fancy\n",
    "# numpy.array를 여러 컬럼단위로 접근시는 실제 컬럼명을 리스트에 넣어서 검색\n",
    "\n",
    "x = np.array([(1.5,2.5,(1.0,2.0)),(3.,4.,(4.,5.)),(1.,3.,(2.,6.))],\n",
    "             dtype=[('x','f4'),('y',np.float32),('value','f4',(2,2))])\n",
    "print(x) # ?\n",
    "print(x[['x','y']]) # ? 왜 []가 두개씩?\n",
    "\n",
    "print(x[['x','value']])"
   ]
  },
  {
   "cell_type": "code",
   "execution_count": 158,
   "metadata": {
    "collapsed": false
   },
   "outputs": [
    {
     "name": "stdout",
     "output_type": "stream",
     "text": [
      "[(1,  2., 'Hello') (2,  3., 'world')]\n",
      "[1 2]\n",
      "[1 2]\n",
      "[2 4]\n",
      "[2 4]\n"
     ]
    }
   ],
   "source": [
    "# 컬럼명으로 변경\n",
    "# numpy.array 생성시 sequence 각 요소에 대해 접근 변수에 대한 값을 변경할 수 있음\n",
    "x = np.array([(1,2.,'Hello'),(2,3.,'world')],\n",
    "            dtype=[('foo','i4'),('bar','f4'),('baz','S10')])\n",
    "# 요소 순서대로 int, float, string\n",
    "print(x)\n",
    "print(x['foo'])\n",
    "y = x['foo']\n",
    "print(y) # [1 2] ?\n",
    "y[:] = 2*y\n",
    "print(y)\n",
    "print(x['foo'])"
   ]
  }
 ],
 "metadata": {
  "kernelspec": {
   "display_name": "Python 3",
   "language": "python",
   "name": "python3"
  },
  "language_info": {
   "codemirror_mode": {
    "name": "ipython",
    "version": 3
   },
   "file_extension": ".py",
   "mimetype": "text/x-python",
   "name": "python",
   "nbconvert_exporter": "python",
   "pygments_lexer": "ipython3",
   "version": "3.6.0"
  }
 },
 "nbformat": 4,
 "nbformat_minor": 2
}
