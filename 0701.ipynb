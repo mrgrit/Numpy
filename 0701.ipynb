{
 "cells": [
  {
   "cell_type": "code",
   "execution_count": 6,
   "metadata": {
    "collapsed": false
   },
   "outputs": [
    {
     "name": "stdout",
     "output_type": "stream",
     "text": [
      "10 <class 'int'>\n"
     ]
    }
   ],
   "source": [
    "def genInt(x):\n",
    "    return int(x)\n",
    "\n",
    "a = genInt('10')\n",
    "print(a, type(a)) # type : 이 클래스를 누가 만들었나, 어느 그룹에 속하는가 / type check => X\n",
    "# Class / Field / Space"
   ]
  },
  {
   "cell_type": "code",
   "execution_count": 8,
   "metadata": {
    "collapsed": false
   },
   "outputs": [
    {
     "name": "stdout",
     "output_type": "stream",
     "text": [
      "[ -1.  -2.  -3.  -4.  -5.  -6.  -7.  -8.  -9. -10.]\n",
      "[  1.   2.   3.   4.   5.   6.   7.   8.   9.  10.]\n",
      "<class 'numpy.ufunc'>\n",
      "[-1. -1. -1. -1. -1. -1. -1. -1. -1. -1.]\n"
     ]
    }
   ],
   "source": [
    "import numpy as np\n",
    "\n",
    "a = np.linspace(1,10,10)\n",
    "\n",
    "print(-a)\n",
    "print(np.fabs(-a))\n",
    "print(type(np.fabs)) # universal function은 for문이 내장되어 있음\n",
    "s = np.sign(-a) \n",
    "print(s)\n",
    "\n"
   ]
  }
 ],
 "metadata": {
  "kernelspec": {
   "display_name": "Python 3",
   "language": "python",
   "name": "python3"
  },
  "language_info": {
   "codemirror_mode": {
    "name": "ipython",
    "version": 3
   },
   "file_extension": ".py",
   "mimetype": "text/x-python",
   "name": "python",
   "nbconvert_exporter": "python",
   "pygments_lexer": "ipython3",
   "version": "3.6.0"
  }
 },
 "nbformat": 4,
 "nbformat_minor": 2
}
