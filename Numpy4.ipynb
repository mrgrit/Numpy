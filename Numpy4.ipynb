{
 "cells": [
  {
   "cell_type": "code",
   "execution_count": 8,
   "metadata": {
    "collapsed": false,
    "scrolled": true
   },
   "outputs": [
    {
     "name": "stdout",
     "output_type": "stream",
     "text": [
      "(<type 'list'>, [1, 2, 3, 4, 5, 6, 7, 8, 9])\n",
      "(<type 'numpy.ndarray'>, array([ 1.,  2.,  3.,  4.,  5.,  6.,  7.,  8.,  9.]))\n",
      "2\n",
      "(array([ True, False,  True, False,  True, False,  True, False,  True, False], dtype=bool), dtype('bool'))\n",
      "2.0\n",
      "[ 1.  3.  5.  7.  9.]\n"
     ]
    },
    {
     "name": "stderr",
     "output_type": "stream",
     "text": [
      "c:\\users\\05-0604\\python2\\lib\\site-packages\\ipykernel_launcher.py:16: VisibleDeprecationWarning: boolean index did not match indexed array along dimension 0; dimension is 9 but corresponding boolean dimension is 10\n",
      "  app.launch_new_instance()\n"
     ]
    }
   ],
   "source": [
    "# numpy 검색/갱신\n",
    "# 내부 원소 접근 방식\n",
    "# __getitem__ 비교\n",
    "# numpy.ndarray 타입에서는 __getitem__에 논리연산등 다양한 처리를 허용\n",
    "import numpy as np\n",
    "l = range(1,10)\n",
    "print(type(l),l)\n",
    "nparr = np.arange(1,10,dtype=np.float_)\n",
    "print(type(nparr),nparr)\n",
    "\n",
    "print(l.__getitem__(1))\n",
    "arI = np.array([True, False, True, False, True, False, True, False, True, False])\n",
    "\n",
    "print(arI, arI.dtype)\n",
    "print(nparr.__getitem__(1))\n",
    "print(nparr.__getitem__(arI))"
   ]
  },
  {
   "cell_type": "code",
   "execution_count": 13,
   "metadata": {
    "collapsed": false,
    "scrolled": true
   },
   "outputs": [
    {
     "name": "stdout",
     "output_type": "stream",
     "text": [
      "(<type 'list'>, [1, 2, 3, 4, 5, 6, 7, 8, 9])\n",
      "(<type 'numpy.ndarray'>, array([ 1.,  2.,  3.,  4.,  5.,  6.,  7.,  8.,  9.]))\n",
      "2\n",
      "(array([ True, False,  True, False,  True, False,  True, False,  True, False], dtype=bool), dtype('bool'))\n",
      "2.0\n",
      "[ 1.  3.  5.  7.  9.]\n",
      "(None, [1, 100, 3, 4, 5, 6, 7, 8, 9])\n",
      "(None, array([   1.,  100.,    3.,    4.,    5.,    6.,    7.,    8.,    9.]))\n",
      "(None, array([  99.,  100.,   99.,    4.,   99.,    6.,   99.,    8.,   99.]))\n"
     ]
    },
    {
     "name": "stderr",
     "output_type": "stream",
     "text": [
      "c:\\users\\05-0604\\python2\\lib\\site-packages\\ipykernel_launcher.py:13: VisibleDeprecationWarning: boolean index did not match indexed array along dimension 0; dimension is 9 but corresponding boolean dimension is 10\n",
      "  del sys.path[0]\n",
      "c:\\users\\05-0604\\python2\\lib\\site-packages\\ipykernel_launcher.py:17: VisibleDeprecationWarning: boolean index did not match indexed array along dimension 0; dimension is 9 but corresponding boolean dimension is 10\n"
     ]
    }
   ],
   "source": [
    "# __setitem__\n",
    "# index 와 slice 처리시 기존 리스트의 방식보다 더 다양한 처리를 위해 __setitem__메소드를 오버라이드 함\n",
    "l = range(1,10)\n",
    "print(type(l),l)\n",
    "nparr = np.arange(1,10,dtype=np.float_)\n",
    "print(type(nparr),nparr)\n",
    "\n",
    "print(l.__getitem__(1))\n",
    "arI = np.array([True, False, True, False, True, False, True, False, True, False])\n",
    "\n",
    "print(arI, arI.dtype)\n",
    "print(nparr.__getitem__(1))\n",
    "print(nparr.__getitem__(arI))\n",
    "\n",
    "print(l.__setitem__(1,100),l)\n",
    "print(nparr.__setitem__(1,100),nparr)\n",
    "print(nparr.__setitem__(arI,99),nparr) # true 인 것을 99로 set\n"
   ]
  },
  {
   "cell_type": "code",
   "execution_count": 20,
   "metadata": {
    "collapsed": false,
    "scrolled": true
   },
   "outputs": [
    {
     "name": "stdout",
     "output_type": "stream",
     "text": [
      "(3, 3)\n",
      "2\n",
      "[[1 2 3]\n",
      " [4 5 6]\n",
      " [7 8 9]]\n",
      "('first row : ', array([1, 2, 3]))\n",
      "('first column : ', array([1, 4, 7]))\n"
     ]
    }
   ],
   "source": [
    "# 2차원 행과 열 접근\n",
    "# 배열 접근하기 : 행과 열 구분\n",
    "# 배열명[행 범위, 열범위] 행으로 접근, 열로 접근\n",
    "l33 = [[1,2,3],[4,5,6],[7,8,9]]\n",
    "np33 = np.array(l33,dtype=int)\n",
    "print(np33.shape) #(3,3)\n",
    "print(np33.ndim)\n",
    "print(np33)\n",
    "\n",
    "print(\"first row : \",np33[0])\n",
    "print(\"first column : \",np33[:,0])"
   ]
  },
  {
   "cell_type": "code",
   "execution_count": 24,
   "metadata": {
    "collapsed": false
   },
   "outputs": [
    {
     "name": "stdout",
     "output_type": "stream",
     "text": [
      "[[1 2 3]\n",
      " [4 5 6]\n",
      " [7 8 9]]\n",
      "[[2 3]\n",
      " [5 6]]\n"
     ]
    }
   ],
   "source": [
    "# 배열접근하기 : 행렬로 구분\n",
    "# 첫번째와 두번째 행과 두번째와 세번째 열로 접근\n",
    "l33 = [[1,2,3],[4,5,6],[7,8,9]]\n",
    "np33 = np.array(l33,dtype=int)\n",
    "print(np33)\n",
    "print(np33[:2,1:])"
   ]
  },
  {
   "cell_type": "code",
   "execution_count": 27,
   "metadata": {
    "collapsed": false
   },
   "outputs": [
    {
     "name": "stdout",
     "output_type": "stream",
     "text": [
      "[[1 2 3]\n",
      " [4 5 6]\n",
      " [7 8 9]]\n",
      "5\n"
     ]
    }
   ],
   "source": [
    "# 배열 접근하기 : 값\n",
    "# 행과 열의 인덱스를 지정하면 실제 값에 접근해서 보여줌\n",
    "l33 = [[1,2,3],[4,5,6],[7,8,9]]\n",
    "np33 = np.array(l33,dtype=int)\n",
    "print(np33)\n",
    "\n",
    "print(np33[1,1])\n"
   ]
  },
  {
   "cell_type": "code",
   "execution_count": 30,
   "metadata": {
    "collapsed": false,
    "scrolled": true
   },
   "outputs": [
    {
     "name": "stdout",
     "output_type": "stream",
     "text": [
      "[  1 100  42  42  42   6   7]\n"
     ]
    }
   ],
   "source": [
    "# 배열 값 바꾸기 : Broadcasting\n",
    "# 배열 계산시 scalar 값과 계산시 크기가 작은 것을 동일한 크기로 계산되도록 확산이 발생\n",
    "l = [1,100,3,4,5,6,7]\n",
    "npl = np.array(l,int)\n",
    "\n",
    "npl[2:5] = 42\n",
    "print(npl)"
   ]
  },
  {
   "cell_type": "code",
   "execution_count": 36,
   "metadata": {
    "collapsed": false,
    "scrolled": true
   },
   "outputs": [
    {
     "name": "stdout",
     "output_type": "stream",
     "text": [
      "[[ 1.76367194 -0.5140513  -1.29135803 -1.9898328 ]\n",
      " [ 2.4966548  -0.09434927 -0.60729566  0.62656161]\n",
      " [ 1.10750792  0.01228651 -0.01096756 -0.29764366]\n",
      " [-1.2197574   1.32096754  0.06238085 -0.82019419]\n",
      " [ 0.10719297  0.73478831  0.12726238 -0.09699686]\n",
      " [-1.09134109 -0.26496879 -0.57327933 -0.82744862]\n",
      " [ 1.79708022  1.66288463  0.27927344 -0.54153934]]\n",
      "second column\n",
      "[-0.5140513  -0.09434927  0.01228651  1.32096754  0.73478831 -0.26496879\n",
      "  1.66288463]\n",
      "Updating second column\n",
      "[[  1.76367194e+00   9.90000000e+01  -1.29135803e+00  -1.98983280e+00]\n",
      " [  2.49665480e+00   9.90000000e+01  -6.07295656e-01   6.26561608e-01]\n",
      " [  1.10750792e+00   9.90000000e+01  -1.09675630e-02  -2.97643657e-01]\n",
      " [ -1.21975740e+00   9.90000000e+01   6.23808521e-02  -8.20194194e-01]\n",
      " [  1.07192971e-01   9.90000000e+01   1.27262383e-01  -9.69968629e-02]\n",
      " [ -1.09134109e+00   9.90000000e+01  -5.73279334e-01  -8.27448625e-01]\n",
      " [  1.79708022e+00   9.90000000e+01   2.79273440e-01  -5.41539343e-01]]\n"
     ]
    }
   ],
   "source": [
    "# N차원 배열 처리\n",
    "# 다차원 배열 : 열 조회/변경\n",
    "# 7*4배열을 정의하고 첫번째 열의 값을 99로 변경\n",
    "data1 = np.random.randn(7,4)\n",
    "print(data1)\n",
    "print(\"second column\")\n",
    "print(data1[:,1])\n",
    "\n",
    "print(\"Updating second column\")\n",
    "data1[:,1] = 99\n",
    "print(data1)"
   ]
  },
  {
   "cell_type": "code",
   "execution_count": 39,
   "metadata": {
    "collapsed": false
   },
   "outputs": [
    {
     "name": "stdout",
     "output_type": "stream",
     "text": [
      "[False False  True]\n",
      "[ 3.]\n"
     ]
    }
   ],
   "source": [
    "# 비교연산 처리\n",
    "f = np.array([1.0,2.0,3.0])\n",
    "a = f > 2.0\n",
    "print(a)# [False False  True]\n",
    "print(f[a])# True인 원소만 조회 : [ 3.]"
   ]
  },
  {
   "cell_type": "code",
   "execution_count": 44,
   "metadata": {
    "collapsed": false,
    "scrolled": true
   },
   "outputs": [
    {
     "name": "stdout",
     "output_type": "stream",
     "text": [
      "[[ 0.32672592  0.17911634  0.86742821  0.48708593]\n",
      " [ 0.09289253  0.45544412  0.41544778  0.95590963]\n",
      " [ 0.38140579  0.61071641  0.21484672  0.63228855]]\n",
      "[[False False  True False]\n",
      " [False False False  True]\n",
      " [False  True False  True]]\n",
      "[ 0.86742821  0.95590963  0.61071641  0.63228855]\n"
     ]
    }
   ],
   "source": [
    "# 다차원 배열 조회\n",
    "f = np.random.rand(3,4)\n",
    "print(f)\n",
    "a = f > 0.5\n",
    "print(a)\n",
    "print(f[a])"
   ]
  },
  {
   "cell_type": "code",
   "execution_count": 49,
   "metadata": {
    "collapsed": false,
    "scrolled": false
   },
   "outputs": [
    {
     "name": "stdout",
     "output_type": "stream",
     "text": [
      "[[ 0.86446697 -0.92256165  0.66537548  0.87261174]\n",
      " [ 0.87445359  0.19634296  0.44228566  1.77255508]\n",
      " [ 0.65758845 -1.51219351  0.41865093  0.84553328]\n",
      " [-1.50176838 -0.29967465 -0.37142244  0.76319298]\n",
      " [-0.00649572 -0.2556     -0.85037455  0.31854527]\n",
      " [ 0.4786128  -0.18378067  0.31826275  0.46187732]\n",
      " [ 0.76224597 -1.15060416  0.29057682 -1.81522002]]\n",
      "[[  0.86446697  99.           0.66537548   0.87261174]\n",
      " [  0.87445359   0.19634296   0.44228566   1.77255508]\n",
      " [  0.65758845  99.           0.41865093   0.84553328]\n",
      " [ 99.          99.          99.           0.76319298]\n",
      " [ 99.          99.          99.           0.31854527]\n",
      " [  0.4786128   99.           0.31826275   0.46187732]\n",
      " [  0.76224597  99.           0.29057682  99.        ]]\n"
     ]
    }
   ],
   "source": [
    "# 다차원 배열 갱신\n",
    "data1 = np.random.randn(7,4)\n",
    "print(data1)\n",
    "data1[data1 < 0] = 99.0\n",
    "\n",
    "print(data1)"
   ]
  },
  {
   "cell_type": "code",
   "execution_count": 55,
   "metadata": {
    "collapsed": false,
    "scrolled": true
   },
   "outputs": [
    {
     "name": "stdout",
     "output_type": "stream",
     "text": [
      "[[ 0  1  2  3]\n",
      " [ 4  5  6  7]\n",
      " [ 8  9 10 11]]\n",
      "8\n",
      "[[ 8  9 10 11]\n",
      " [ 0  1  2  3]]\n",
      "[[ 0  1  2  3]\n",
      " [ 4  5  6  7]\n",
      " [ 8  9 10 11]]\n",
      "9\n",
      "[[ 8  9 10 11]\n",
      " [ 0  1  2  3]]\n"
     ]
    }
   ],
   "source": [
    "# Numpy Fancy Indexing\n",
    "# 원소추출\n",
    "# 행검색\n",
    "# 정방향\n",
    "f = np.arange(0,12).reshape(3,4)\n",
    "print(f)\n",
    "print(f[2,0])\n",
    "print(f[[2,0]])\n",
    "\n",
    "# 역방향\n",
    "f = np.arange(0,12).reshape(3,4)\n",
    "print(f)\n",
    "print(f[-1,-3])\n",
    "print(f[[-1,-3]])"
   ]
  },
  {
   "cell_type": "code",
   "execution_count": 65,
   "metadata": {
    "collapsed": false,
    "scrolled": true
   },
   "outputs": [
    {
     "name": "stdout",
     "output_type": "stream",
     "text": [
      "[[ 0  1  2  3]\n",
      " [ 4  5  6  7]\n",
      " [ 8  9 10 11]]\n",
      "[ 4 10]\n",
      "[0 0 0 0]\n",
      "[0 3 2 1]\n",
      "[142  65 189  56]\n"
     ]
    }
   ],
   "source": [
    "# 순서쌍 처리후 원소만 추출\n",
    "# 두개의 배열을 주면 첫번째 배열은 행, 두번째 배열은 열로 순서쌍을 구성해서 값 추출\n",
    "f = np.arange(0,12).reshape(3,4)\n",
    "print(f)\n",
    "# (1,0),(2,2)처리 => 4, 10\n",
    "print(f[[1,2],[0,2]])\n",
    "\n",
    "B = np.array([[142,56,189,65],\n",
    "             [299,288,10,12],\n",
    "             [55,142,17,18]])\n",
    "\n",
    "# 첫번째 행에 대한 위치조정 후 출력\n",
    "e0 = np.array([0,0,0,0])\n",
    "print(e0)\n",
    "e1 = np.array([0,3,2,1])\n",
    "print(e1)\n",
    "f = B[(e0,e1)] #(0,0),(0,3),(0,2),(0,1)\n",
    "\n",
    "print(f)\n",
    "           "
   ]
  },
  {
   "cell_type": "code",
   "execution_count": 67,
   "metadata": {
    "collapsed": false
   },
   "outputs": [
    {
     "name": "stdout",
     "output_type": "stream",
     "text": [
      "[[ 0  1  2  3]\n",
      " [ 4  5  6  7]\n",
      " [ 8  9 10 11]]\n",
      "[[ 4  6]\n",
      " [ 8 10]]\n",
      "[[ 0  1  2  3]\n",
      " [ 4  5  6  7]\n",
      " [ 8  9 10 11]]\n",
      "[[ 4  6]\n",
      " [ 8 10]]\n"
     ]
    }
   ],
   "source": [
    "# 배열추출\n",
    "# 첫번째 배열은 행을 처리, 두번째 배열은 열을 처리해서 행과 열로 구성된 배열 추출\n",
    "f = np.arange(0,12).reshape(3,4)\n",
    "print(f)\n",
    "# array 형태로 출력\n",
    "print(f[[1,2]][:,[0,2]]) # ??\n",
    "\n",
    "# np.ix_ 함수 이용\n",
    "f = np.arange(0,12).reshape(3,4)\n",
    "print(f)\n",
    "\n",
    "print(f[np.ix_([1,2],[0,2])])# index로 값(배열) 추출"
   ]
  },
  {
   "cell_type": "code",
   "execution_count": 71,
   "metadata": {
    "collapsed": false
   },
   "outputs": [
    {
     "name": "stdout",
     "output_type": "stream",
     "text": [
      "[[ 0  1  2  3]\n",
      " [ 4  5  6  7]\n",
      " [ 8  9 10 11]]\n",
      "[[ 4  5  6  7]\n",
      " [ 8  9 10 11]]\n"
     ]
    }
   ],
   "source": [
    "# 표현식 사용\n",
    "# 배열에 직접 비교연산 수식을 제공해서 원소 추출\n",
    "f = np.arange(0,12).reshape(3,4)\n",
    "print(f)\n",
    "\n",
    "print(f[f>3].reshape(2,4))"
   ]
  },
  {
   "cell_type": "code",
   "execution_count": 74,
   "metadata": {
    "collapsed": false
   },
   "outputs": [
    {
     "name": "stdout",
     "output_type": "stream",
     "text": [
      "[[ 0  1  2  3]\n",
      " [ 4  5  6  7]\n",
      " [ 8  9 10 11]]\n",
      "[ 1  2  4  5  7  8 10 11]\n"
     ]
    }
   ],
   "source": [
    "# 표현식 : 산술 + 비교연산\n",
    "f = np.arange(0,12).reshape(3,4)\n",
    "print(f)\n",
    "\n",
    "print(f[f%3 != 0])"
   ]
  },
  {
   "cell_type": "code",
   "execution_count": 75,
   "metadata": {
    "collapsed": false
   },
   "outputs": [
    {
     "name": "stdout",
     "output_type": "stream",
     "text": [
      "[[ 0  1  2  3]\n",
      " [ 4  5  6  7]\n",
      " [ 8  9 10 11]]\n",
      "[ 1  2  3  4  5  6  7  8  9 10 11]\n"
     ]
    }
   ],
   "source": [
    "# 메소드 사용\n",
    "# 배열 내의 원소가 nonzero인 것을 식별하기 위해 nonzero메소드 사용\n",
    "f = np.arange(0,12).reshape(3,4)\n",
    "print(f)\n",
    "\n",
    "print(f[f.nonzero()])"
   ]
  }
 ],
 "metadata": {
  "kernelspec": {
   "display_name": "Python 3",
   "language": "python",
   "name": "python3"
  },
  "language_info": {
   "codemirror_mode": {
    "name": "ipython",
    "version": 3
   },
   "file_extension": ".py",
   "mimetype": "text/x-python",
   "name": "python",
   "nbconvert_exporter": "python",
   "pygments_lexer": "ipython3",
   "version": "3.6.0"
  }
 },
 "nbformat": 4,
 "nbformat_minor": 2
}
